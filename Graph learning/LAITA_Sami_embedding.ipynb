{
  "cells": [
    {
      "cell_type": "markdown",
      "metadata": {
        "id": "kJuzknUkKzmH"
      },
      "source": [
        "# Graph Learning\n",
        "## Lab 6: Spectral Embedding\n",
        "\n",
        "In this lab, you will learn to embed the nodes of a graph in a vector space of low dimension. We consider the  embedding based on the top eigenvectors of the transition matrix $P=D^{-1}A$."
      ]
    },
    {
      "cell_type": "markdown",
      "metadata": {
        "id": "jyjVXPpoKzmK"
      },
      "source": [
        "## Import"
      ]
    },
    {
      "cell_type": "code",
      "execution_count": null,
      "metadata": {
        "id": "hyoHEmOeKzmK"
      },
      "outputs": [],
      "source": [
        "from IPython.display import SVG"
      ]
    },
    {
      "cell_type": "code",
      "execution_count": null,
      "metadata": {
        "id": "ugzbearqKzmL"
      },
      "outputs": [],
      "source": [
        "import numpy as np\n",
        "from scipy import sparse\n",
        "from matplotlib import pyplot as plt"
      ]
    },
    {
      "cell_type": "code",
      "execution_count": null,
      "metadata": {
        "id": "EITF2u7PKzmL"
      },
      "outputs": [],
      "source": [
        "from sknetwork.data import load_netset, karate_club\n",
        "from sknetwork.embedding import Spectral\n",
        "from sknetwork.ranking import PageRank\n",
        "from sknetwork.visualization import visualize_graph\n",
        "from sklearn.cluster import KMeans\n",
        "from sknetwork.visualization import visualize_dendrogram"
      ]
    },
    {
      "cell_type": "code",
      "execution_count": null,
      "metadata": {
        "id": "x0Rq5cNZYvZG"
      },
      "outputs": [],
      "source": [
        "from scipy.cluster.hierarchy import linkage\n",
        "import pandas as pd\n",
        "import plotly.express as px\n",
        "import nbformat"
      ]
    },
    {
      "cell_type": "markdown",
      "metadata": {
        "id": "OzKG2EUoKzmL"
      },
      "source": [
        "## Data"
      ]
    },
    {
      "cell_type": "markdown",
      "metadata": {
        "id": "56LXGgSlKzmM"
      },
      "source": [
        "We will work on the following graphs (see the [NetSet](https://netset.telecom-paris.fr/) collection for details):\n",
        "* Openflights (graph)\n",
        "* WikiVitals (directed graph and bipartite graph)"
      ]
    },
    {
      "cell_type": "code",
      "execution_count": null,
      "metadata": {
        "colab": {
          "base_uri": "https://localhost:8080/"
        },
        "id": "0L0nbhjuKzmM",
        "outputId": "499975ca-0d97-402c-8ccf-6c3444485bb7"
      },
      "outputs": [],
      "source": [
        "openflights = load_netset('openflights')\n",
        "wikivitals = load_netset('wikivitals')"
      ]
    },
    {
      "cell_type": "markdown",
      "metadata": {
        "id": "fHD2txN5KzmM"
      },
      "source": [
        "## 1. Graphs"
      ]
    },
    {
      "cell_type": "markdown",
      "metadata": {
        "id": "11t_MPT8KzmM"
      },
      "source": [
        "## Karate Club\n"
      ]
    },
    {
      "cell_type": "markdown",
      "metadata": {
        "id": "JqT5ScYQKzmN"
      },
      "source": [
        "We first consider the spectral embedding of the [karate club graph](https://en.wikipedia.org/wiki/Zachary%27s_karate_club)."
      ]
    },
    {
      "cell_type": "code",
      "execution_count": null,
      "metadata": {
        "id": "da1WaU3kKzmN"
      },
      "outputs": [],
      "source": [
        "dataset = karate_club(metadata=True)"
      ]
    },
    {
      "cell_type": "code",
      "execution_count": null,
      "metadata": {
        "id": "G1uVVqI9KzmN"
      },
      "outputs": [],
      "source": [
        "adjacency = dataset.adjacency\n",
        "position = dataset.position\n",
        "labels_true = dataset.labels"
      ]
    },
    {
      "cell_type": "code",
      "execution_count": null,
      "metadata": {
        "colab": {
          "base_uri": "https://localhost:8080/",
          "height": 361
        },
        "id": "rfvVmgFVKzmN",
        "outputId": "74266710-ad84-48d6-861f-91636ca47a73"
      },
      "outputs": [],
      "source": [
        "image = visualize_graph(adjacency, position, labels=labels_true)\n",
        "SVG(image)"
      ]
    },
    {
      "cell_type": "markdown",
      "metadata": {
        "id": "2Ejc0wZcKzmN"
      },
      "source": [
        "## To do\n",
        "\n",
        "* Display the spectrum of the transition matrix (e.g., first 20 eigenvalues).\n",
        "* What does the spectrum suggest?\n",
        "* Display the graph with some eigenvectors.\n",
        "* Display the embedding of the graph in dimension 2.\n",
        "* Compare the clusters obtained with the sign of the first component of the embedding to the ground-truth clusters."
      ]
    },
    {
      "cell_type": "code",
      "execution_count": null,
      "metadata": {
        "id": "XQAS1EBLKzmN"
      },
      "outputs": [],
      "source": [
        "spectral = Spectral(20, normalized=False)"
      ]
    },
    {
      "cell_type": "code",
      "execution_count": null,
      "metadata": {
        "colab": {
          "base_uri": "https://localhost:8080/"
        },
        "id": "OiBj3xHKKzmN",
        "outputId": "29460ea7-9c0d-4093-88a7-9b75c87c5a7d"
      },
      "outputs": [],
      "source": [
        "spectral.fit(adjacency)"
      ]
    },
    {
      "cell_type": "code",
      "execution_count": null,
      "metadata": {
        "id": "YB_4dLkQKzmO"
      },
      "outputs": [],
      "source": [
        "# eigenvalues (adding the first)\n",
        "eigenvalues = [1] + list(spectral.eigenvalues_)"
      ]
    },
    {
      "cell_type": "code",
      "execution_count": null,
      "metadata": {
        "colab": {
          "base_uri": "https://localhost:8080/",
          "height": 607
        },
        "id": "i6zd47xiOTY4",
        "outputId": "dd7bc615-21bf-4d32-8d2b-1cc1d445dac9"
      },
      "outputs": [],
      "source": [
        "# 1. Display the spectrum of the transition matrix (first 20 eigenvalues)\n",
        "plt.figure(figsize=(10, 6))\n",
        "plt.scatter(np.arange(len(eigenvalues)) + 1, eigenvalues, color='r', s=100, edgecolor='k', lw=1)\n",
        "plt.ylim(-1.1, 1.1)\n",
        "plt.axhline(0, color='k', linestyle='-', linewidth=0.5)\n",
        "plt.title(\"Eigenvalue Spectrum of the Graph Laplacian\", fontsize=14, pad=20)\n",
        "plt.xlabel(\"Eigenvalue Index (k)\", fontsize=12)\n",
        "plt.ylabel(\"Eigenvalue (λₖ)\", fontsize=12)"
      ]
    },
    {
      "cell_type": "markdown",
      "metadata": {
        "id": "e6wYnaNzPKO4"
      },
      "source": [
        "The spectrum suggest that there are 4 clusters, as there are 4 dominant eigenvalues, this is was we also got when we have done the Louvain algorithm."
      ]
    },
    {
      "cell_type": "code",
      "execution_count": null,
      "metadata": {
        "id": "9uFnbOZvKzmO"
      },
      "outputs": [],
      "source": [
        "# eigenvectors\n",
        "eigenvectors = spectral.eigenvectors_"
      ]
    },
    {
      "cell_type": "code",
      "execution_count": null,
      "metadata": {
        "colab": {
          "base_uri": "https://localhost:8080/",
          "height": 361
        },
        "id": "YeHvcvtfKzmO",
        "outputId": "e79c81f6-e470-428a-8d84-5242fcbb248f"
      },
      "outputs": [],
      "source": [
        "# Displaying eigenvector 0\n",
        "image = visualize_graph(adjacency, position, scores=eigenvectors[:, 0])\n",
        "SVG(image)"
      ]
    },
    {
      "cell_type": "code",
      "execution_count": null,
      "metadata": {
        "colab": {
          "base_uri": "https://localhost:8080/",
          "height": 361
        },
        "id": "3qE4CakxPs6O",
        "outputId": "b6946bc3-009c-408e-cac8-cba21dd4c580"
      },
      "outputs": [],
      "source": [
        "# Displaying eigenvector 1\n",
        "image = visualize_graph(adjacency, position, scores=eigenvectors[:, 1])\n",
        "SVG(image)"
      ]
    },
    {
      "cell_type": "code",
      "execution_count": null,
      "metadata": {
        "colab": {
          "base_uri": "https://localhost:8080/",
          "height": 707
        },
        "id": "rKbonMpXTnnm",
        "outputId": "95851fc3-6605-44fa-a204-99bd8e1e5cc1"
      },
      "outputs": [],
      "source": [
        "plt.figure(figsize=(7, 7), facecolor='white', dpi=100)\n",
        "\n",
        "for label in np.unique(labels_true):\n",
        "    plt.scatter( eigenvectors[labels_true == label, 0], eigenvectors[labels_true == label, 1], s=150, c=['r', 'b'][label], edgecolor='k', linewidth=0.8)\n",
        "plt.axvline(x=0, c='k', linestyle='--', linewidth=0.8, alpha=0.7)\n",
        "plt.axhline(y=0, c='k', linestyle='--', linewidth=0.8, alpha=0.7)\n",
        "plt.title(\"Spectral Embedding (2D)\", fontsize=14, pad=15)\n",
        "plt.xlabel(\"First Eigenvector\", fontsize=12)\n",
        "plt.ylabel(\"Second Eigenvector\", fontsize=12)\n",
        "plt.grid(True, linestyle=':', alpha=0.4)\n",
        "plt.tight_layout()\n",
        "legend_labels = ['Community 0', 'Community 1']\n",
        "plt.legend(legend_labels, frameon=True, facecolor='white', edgecolor='none')\n",
        "plt.show()"
      ]
    },
    {
      "cell_type": "code",
      "execution_count": null,
      "metadata": {
        "colab": {
          "base_uri": "https://localhost:8080/",
          "height": 361
        },
        "id": "ol1d2szIUzC7",
        "outputId": "d5a097d6-70b6-4e2c-bea8-7aabb6d9f1c4"
      },
      "outputs": [],
      "source": [
        "labels_pred = (eigenvectors[:,0] > 0).astype(int)\n",
        "image = visualize_graph(adjacency, position, labels=labels_pred)\n",
        "SVG(image)"
      ]
    },
    {
      "cell_type": "code",
      "execution_count": null,
      "metadata": {
        "colab": {
          "base_uri": "https://localhost:8080/"
        },
        "id": "4IuNCQXlVBVk",
        "outputId": "af917d8d-2eed-42d4-e3fb-72bc9d6480d6"
      },
      "outputs": [],
      "source": [
        "print(\" Accuracy :\" ,np.mean(labels_pred==labels_true))"
      ]
    },
    {
      "cell_type": "markdown",
      "metadata": {
        "id": "LX17IvQHKzmO"
      },
      "source": [
        "## Openflights\n"
      ]
    },
    {
      "cell_type": "markdown",
      "metadata": {
        "id": "8mqDmy_0KzmO"
      },
      "source": [
        "We now consider a larger graph. We use spectral embedding in dimension 20 to cluster the graph by k-means in the embedding space."
      ]
    },
    {
      "cell_type": "code",
      "execution_count": null,
      "metadata": {
        "id": "LOSZYL7vKzmO"
      },
      "outputs": [],
      "source": [
        "dataset = openflights"
      ]
    },
    {
      "cell_type": "code",
      "execution_count": null,
      "metadata": {
        "id": "Y7vZ6SKzKzmO"
      },
      "outputs": [],
      "source": [
        "adjacency = dataset.adjacency\n",
        "position = dataset.position\n",
        "names = dataset.names"
      ]
    },
    {
      "cell_type": "code",
      "execution_count": null,
      "metadata": {
        "colab": {
          "base_uri": "https://localhost:8080/",
          "height": 461
        },
        "id": "T2TfZKO2KzmP",
        "outputId": "b80ead98-1392-4c89-b706-3990e7a31c3d"
      },
      "outputs": [],
      "source": [
        "image = visualize_graph(adjacency, position, width=800, height=400, node_size=3, display_edges=False)\n",
        "SVG(image)"
      ]
    },
    {
      "cell_type": "markdown",
      "metadata": {
        "id": "TbwmGfVVKzmP"
      },
      "source": [
        "## To do\n",
        "\n",
        "* Display the same world map with 8 clusters found by k-means in the embedding space. You can use ``scikit-learn``for k-means.\n",
        "* Do the same without normalization on the unit sphere (``normalized=False``).<br> Interpret the results. <br>**Hint:** Compute the Euclidean norm of the centroid of each cluster in the embedding space."
      ]
    },
    {
      "cell_type": "code",
      "execution_count": null,
      "metadata": {
        "id": "IkssCwgXKzmP"
      },
      "outputs": [],
      "source": [
        "spectral = Spectral(20, normalized=True)"
      ]
    },
    {
      "cell_type": "code",
      "execution_count": null,
      "metadata": {
        "id": "iS7BaxfgKzmP"
      },
      "outputs": [],
      "source": [
        "embedding_norm = spectral.fit_transform(adjacency)"
      ]
    },
    {
      "cell_type": "code",
      "execution_count": null,
      "metadata": {
        "colab": {
          "base_uri": "https://localhost:8080/",
          "height": 461
        },
        "id": "hrj3FviaWAI4",
        "outputId": "d3c17b04-890c-42d9-8ff6-175ae0369ae9"
      },
      "outputs": [],
      "source": [
        "# Displaying world map with 8 clusters\n",
        "kmeans = KMeans(8, n_init=20)\n",
        "labels_norm = kmeans.fit_predict(embedding_norm)\n",
        "image = visualize_graph(adjacency, position, width=800, height=400, node_size=3, labels=labels_norm, display_edges=False)\n",
        "SVG(image)"
      ]
    },
    {
      "cell_type": "code",
      "execution_count": null,
      "metadata": {
        "colab": {
          "base_uri": "https://localhost:8080/",
          "height": 461
        },
        "id": "kP8gaekaWsZ3",
        "outputId": "9db31d62-201e-4efe-8415-1c15bce86464"
      },
      "outputs": [],
      "source": [
        "spectral = Spectral(20, normalized=False)\n",
        "embedding = spectral.fit_transform(adjacency)\n",
        "kmeans = KMeans(8, n_init=20)\n",
        "labels = kmeans.fit_predict(embedding)\n",
        "image = visualize_graph(adjacency, position, width=800, height=400, node_size=3, labels=labels, display_edges=False)\n",
        "SVG(image)"
      ]
    },
    {
      "cell_type": "code",
      "execution_count": null,
      "metadata": {
        "colab": {
          "base_uri": "https://localhost:8080/"
        },
        "id": "ZyJTmIl7WwfE",
        "outputId": "9547d2fa-3e84-4b02-811b-0e0d6686a54c"
      },
      "outputs": [],
      "source": [
        "def analyze_clusters(embedding, labels, normalized):\n",
        "    print(f\"\\nAnalysis for {'normalized' if normalized else 'non-normalized'} embedding:\")\n",
        "    for i in range(8):\n",
        "        cluster_points = embedding[labels == i]\n",
        "        centroid = kmeans.cluster_centers_[i]\n",
        "        avg_norm = np.mean(np.linalg.norm(cluster_points, axis=1))\n",
        "        centroid_norm = np.linalg.norm(centroid)\n",
        "\n",
        "        print(f\"Cluster {i}:\")\n",
        "        print(f\"  • Avg point norm: {avg_norm:.3f}\")\n",
        "        print(f\"  • Centroid norm: {centroid_norm:.3f}\")\n",
        "        print(f\"  • Size: {len(cluster_points)} points\")\n",
        "\n",
        "analyze_clusters(embedding_norm, labels_norm, normalized=True)\n",
        "analyze_clusters(embedding, labels, normalized=False)"
      ]
    },
    {
      "cell_type": "markdown",
      "metadata": {
        "id": "5cLcxHztYPX0"
      },
      "source": [
        "Normalized embedding clusters represent directional patterns on a unit sphere, where all points have equal magnitude but vary in angular position. Non-normalized embedding clusters reflect both magnitude and direction, revealing groups with similar absolute distances from the origin—higher centroid norms indicate more distinct clusters, while lower norms suggest overlapping or less distinct groups."
      ]
    },
    {
      "cell_type": "markdown",
      "metadata": {
        "id": "ePGsP_oLKzmP"
      },
      "source": [
        "## 2. Directed graphs and bipartite graphs"
      ]
    },
    {
      "cell_type": "markdown",
      "metadata": {
        "id": "oKWMRmV-KzmP"
      },
      "source": [
        "We now work on directed graph and bipartite graphs. We measure proximity between nodes in the embedding space in terms of [cosine similarity](https://en.wikipedia.org/wiki/Cosine_similarity). Equivalently, we project the vectors on the unit sphere."
      ]
    },
    {
      "cell_type": "code",
      "execution_count": null,
      "metadata": {
        "id": "xp_R7h_tKzmP"
      },
      "outputs": [],
      "source": [
        "spectral = Spectral(20, normalized=True)"
      ]
    },
    {
      "cell_type": "markdown",
      "metadata": {
        "id": "qSzv2o_hKzmP"
      },
      "source": [
        "## Wikipedia Vitals"
      ]
    },
    {
      "cell_type": "code",
      "execution_count": null,
      "metadata": {
        "id": "f8Dvk2pcKzmQ"
      },
      "outputs": [],
      "source": [
        "dataset = wikivitals"
      ]
    },
    {
      "cell_type": "code",
      "execution_count": null,
      "metadata": {
        "id": "bAGsCKCjKzmQ"
      },
      "outputs": [],
      "source": [
        "adjacency = dataset.adjacency\n",
        "biadjacency = dataset.biadjacency\n",
        "names = dataset.names\n",
        "words = dataset.names_col\n",
        "labels = dataset.labels\n",
        "names_labels = dataset.names_labels\n",
        "labels_hierarchy = dataset.labels_hierarchy\n",
        "names_labels_hierarchy = dataset.names_labels_hierarchy"
      ]
    },
    {
      "cell_type": "markdown",
      "metadata": {
        "id": "jq02CiLFKzmQ"
      },
      "source": [
        "## To do\n",
        "\n",
        "We first consider the spectral embedding of the graph of links in dimension 20.\n",
        "\n",
        "* List the 20 articles that are closest to **Vincent van Gogh** in terms of cosine similarity in the embedding space. Compare with the top articles obtained with Personalized PageRank.\n",
        "* Display the 3D-plot of each of the 11 labels in the embedding space (top 3 dimensions). <br>You might represent each label by a point located at the centroid of the corresponding articles, with a size proportional to the number of articles. Use ``plotly`` for an interactive plot. Interpret the results.\n",
        "* Display the dendrogram of the hierarchical clustering of the top-100 articles on **Arts** (in terms of Personalized PageRank). You might use the [Ward method](https://en.wikipedia.org/wiki/Ward%27s_method) in the embedding space. Comment the results."
      ]
    },
    {
      "cell_type": "code",
      "execution_count": null,
      "metadata": {
        "colab": {
          "base_uri": "https://localhost:8080/"
        },
        "id": "WbftBpohKzmQ",
        "outputId": "ef2e778f-64ef-43ca-abb0-6da05bee50fe"
      },
      "outputs": [],
      "source": [
        "spectral = Spectral(20)\n",
        "embedding = spectral.fit_transform(adjacency)\n",
        "node = np.flatnonzero(names=='Vincent van Gogh')[0]\n",
        "# cosine similarity\n",
        "scores = embedding.dot(embedding[node])\n",
        "print(\"Top 20 articles by cosine similarity :\", names[np.argsort(-scores)[:20]])\n",
        "van_gogh_idx = np.where(names == \"Vincent van Gogh\")[0][0]\n",
        "pagerank = PageRank()\n",
        "scores_ppr = pagerank.fit_predict(adjacency, weights={van_gogh_idx: 1})\n",
        "top_pagerank = np.argsort(- scores_ppr)[:20]\n",
        "print(\"Top 20 articles by PPR : \", names[top_pagerank])\n",
        "\n"
      ]
    },
    {
      "cell_type": "code",
      "execution_count": null,
      "metadata": {
        "colab": {
          "base_uri": "https://localhost:8080/",
          "height": 542
        },
        "id": "cU5j50uTcwR7",
        "outputId": "8a87fde6-002d-4a06-a0b8-7e3a0b9deb44"
      },
      "outputs": [],
      "source": [
        "labels_unique, counts = np.unique(labels, return_counts=True)\n",
        "embedding_label = np.array([np.mean(embedding[labels==label], axis=0) for label in labels_unique])\n",
        "dataframe = pd.DataFrame(embedding_label[:, :3], columns=list('xyz'))\n",
        "dataframe['category'] = names_labels[labels_unique]\n",
        "dataframe['count'] = counts\n",
        "fig = px.scatter_3d(dataframe, x='x', y='y', z='z', text='category', color='category', size='count', size_max=100, opacity=0.5, title='3D Spectral Embedding of Clusters' )\n",
        "fig.update_layout(showlegend=False)"
      ]
    },
    {
      "cell_type": "code",
      "execution_count": null,
      "metadata": {
        "colab": {
          "base_uri": "https://localhost:8080/",
          "height": 1000
        },
        "id": "xP958Z00d362",
        "outputId": "a39de557-0f35-4572-cc66-4162c9075635"
      },
      "outputs": [],
      "source": [
        "pagerank = PageRank()\n",
        "scores = pagerank.fit_predict(adjacency, labels==0)\n",
        "scores *= labels==0\n",
        "top = np.argsort(-scores)[:100]\n",
        "dendrogram = linkage(embedding[top], method='ward')\n",
        "SVG(visualize_dendrogram(dendrogram, names=names[top], rotate=True, rotate_names=True, height=1000))"
      ]
    },
    {
      "cell_type": "markdown",
      "metadata": {
        "id": "iwtQ6ag4KzmR"
      },
      "source": [
        "## To do\n",
        "\n",
        "* Repeat the same experiments on the bipartite graph between articles and words.\n",
        "* List the 10 articles and the 10 words that are closest to the word **painting** in the embedding space."
      ]
    },
    {
      "cell_type": "code",
      "execution_count": null,
      "metadata": {
        "colab": {
          "base_uri": "https://localhost:8080/"
        },
        "id": "0UJypuU3edwC",
        "outputId": "bd9f03fe-c8d1-44f8-d459-67f9e734199e"
      },
      "outputs": [],
      "source": [
        "embedding = spectral.fit_transform(biadjacency)\n",
        "embedding_words = spectral.embedding_col_\n",
        "\n",
        "# cosine similarity with articles\n",
        "scores = embedding.dot(embedding_words[words == \"painting\"].ravel())\n",
        "print(\"\\n=== Top 10 Articles Related to 'painting' ===\")\n",
        "for i, idx in enumerate(np.argsort(-scores)[:10], 1):\n",
        "    print(f\"{i}. {names[idx]}\")\n",
        "\n",
        "# cosine similarity with words\n",
        "scores = embedding_words.dot(embedding_words[words == \"painting\"].ravel())\n",
        "print(\"\\n=== Top 10 Words Related to 'painting' ===\")\n",
        "for i, idx in enumerate(np.argsort(-scores)[:10], 1):\n",
        "    print(f\"{i}. {words[idx]}\")"
      ]
    },
    {
      "cell_type": "markdown",
      "metadata": {
        "id": "1aReEH_EKzmR"
      },
      "source": [
        "## To do\n",
        "\n",
        "* Prove that the average cosine similarity between vectors in some set $S$ is equal to the square norm of the centroid of $S$.\n",
        "\n",
        "$$\n",
        "S=\\{v_1,\\ldots,v_n\\}\n",
        "$$\n",
        "$$\n",
        "\\mu = \\frac 1 n \\sum_{i=1}^n v_i\n",
        "$$\n",
        "\n",
        "For the following questions, first consider the graph of links, then the bipartite graph between articles and words:\n",
        "\n",
        "* Compute the average cosine similarity between articles of the **Mammals** category (see hierarchical labels).\n",
        "* Compare with the expected cosine similarity between two articles sampled uniformly at random.\n",
        "* Defining a category as **topical** if its average cosine similarity is close to 1, rank the 11 categories (Arts, History,...) by topicality.\n",
        "* List the 10 most topical and the 10 less topical hierarchical categories having at least 10 articles (like **Mammals**). Comment the results."
      ]
    },
    {
      "cell_type": "markdown",
      "metadata": {
        "id": "25k8v0W9kTuy"
      },
      "source": [
        "**Proof**:\n",
        "$$\n",
        "\\frac{1}{n^2}\\sum_{i,j} v_i^T v_j\n",
        "= \\frac{1}{n^2}\\left(\\sum_i v_i\\right)^T\\left(\\sum_j v_j\\right)\n",
        "= \\left\\|\\frac{1}{n}\\sum_i v_i\\right\\|^2\n",
        "= \\|\\mu\\|^2\n",
        "$$"
      ]
    },
    {
      "cell_type": "code",
      "execution_count": null,
      "metadata": {
        "colab": {
          "base_uri": "https://localhost:8080/"
        },
        "id": "wn4re9_wh-Eg",
        "outputId": "baacbe53-0b36-4691-95bd-e06f9e8c3fd6"
      },
      "outputs": [],
      "source": [
        "biadjacency = dataset.biadjacency\n",
        "spectral = Spectral(20)\n",
        "embedding = spectral.fit_transform(biadjacency)\n",
        "\n",
        "mammal_category_id = next(\n",
        "    label for label, name in enumerate(names_labels_hierarchy)\n",
        "    if name.endswith(\"Mammals\")\n",
        ")\n",
        "\n",
        "def get_average_cosine(mask):\n",
        "    return np.linalg.norm(np.mean(embedding[mask], axis=0))**2\n",
        "\n",
        "mammals_avg_cosine = get_average_cosine(labels_hierarchy == mammal_category_id)\n",
        "\n",
        "print(f\"Average cosine similarity for Mammals: {mammals_avg_cosine:.4f}\")\n"
      ]
    },
    {
      "cell_type": "code",
      "execution_count": null,
      "metadata": {
        "colab": {
          "base_uri": "https://localhost:8080/"
        },
        "id": "8n4hwzRWKzmd",
        "outputId": "cd2403f1-64f8-49f1-cfaf-30ce38570a31"
      },
      "outputs": [],
      "source": [
        "expected_random = get_average_cosine(labels_hierarchy >= 0)\n",
        "print(f\"Expected random: {expected_random:.4f}\")"
      ]
    },
    {
      "cell_type": "code",
      "execution_count": null,
      "metadata": {
        "colab": {
          "base_uri": "https://localhost:8080/"
        },
        "id": "_Y9Kyd9IoPkO",
        "outputId": "f4929cc7-d650-4000-f55a-0b9f233c9e24"
      },
      "outputs": [],
      "source": [
        "scores = np.array([get_average_cosine(labels==label) for label in np.unique(labels)])\n",
        "print(\"Ranked Categories by Topicality:\")\n",
        "print(\"--------------------------------\")\n",
        "for i, label in enumerate(np.argsort(-scores), 1):\n",
        "    print(f\"{i:2d}. {scores[label]:.3f} - {names_labels[label]}\")"
      ]
    },
    {
      "cell_type": "code",
      "execution_count": null,
      "metadata": {
        "colab": {
          "base_uri": "https://localhost:8080/"
        },
        "id": "YHHVp2MuoiJp",
        "outputId": "72d7a52e-fe56-4194-b1a4-65e8cb4869e8"
      },
      "outputs": [],
      "source": [
        "unique_labels, counts = np.unique(labels_hierarchy, return_counts=True)\n",
        "valid_labels = unique_labels[counts >= 10]\n",
        "\n",
        "hier_scores = np.array([get_average_cosine(labels_hierarchy==label) for label in valid_labels])\n",
        "hier_names = [names_labels_hierarchy[label] for label in valid_labels]\n",
        "\n",
        "print(\"Top 10 Most Topical:\")\n",
        "for i in np.argsort(-hier_scores)[:10]:\n",
        "    print(f\"{hier_scores[i]:.3f} - {hier_names[i]}\")\n",
        "\n",
        "print(\"\\nTop 10 Least Topical:\")\n",
        "for i in np.argsort(hier_scores)[:10]:\n",
        "    print(f\"{hier_scores[i]:.3f} - {hier_names[i]}\")"
      ]
    }
  ],
  "metadata": {
    "anaconda-cloud": {},
    "colab": {
      "provenance": []
    },
    "hide_input": false,
    "kernelspec": {
      "display_name": "Python 3 (ipykernel)",
      "language": "python",
      "name": "python3"
    },
    "language_info": {
      "codemirror_mode": {
        "name": "ipython",
        "version": 3
      },
      "file_extension": ".py",
      "mimetype": "text/x-python",
      "name": "python",
      "nbconvert_exporter": "python",
      "pygments_lexer": "ipython3",
      "version": "3.9.18"
    }
  },
  "nbformat": 4,
  "nbformat_minor": 0
}
