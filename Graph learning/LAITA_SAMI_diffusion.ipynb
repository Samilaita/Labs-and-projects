{
  "cells": [
    {
      "cell_type": "markdown",
      "metadata": {
        "id": "PzujSvHngipi"
      },
      "source": [
        "# Graph Learning\n",
        "## Lab 5: Heat Diffusion\n",
        "\n",
        "In this lab, you will learn to use heat diffusion for **contrastive ranking** and **node classification**."
      ]
    },
    {
      "cell_type": "markdown",
      "metadata": {
        "id": "mVupZpyAgipl"
      },
      "source": [
        "## Import"
      ]
    },
    {
      "cell_type": "code",
      "execution_count": null,
      "metadata": {
        "id": "Ev57_4YFgipl"
      },
      "outputs": [],
      "source": [
        "from IPython.display import SVG"
      ]
    },
    {
      "cell_type": "code",
      "execution_count": null,
      "metadata": {
        "id": "QgFMmILBgipm"
      },
      "outputs": [],
      "source": [
        "import numpy as np\n",
        "from scipy import sparse\n",
        "import matplotlib.pyplot as plt\n",
        "import seaborn as sns"
      ]
    },
    {
      "cell_type": "code",
      "execution_count": null,
      "metadata": {
        "id": "f3_HQxGRgipm"
      },
      "outputs": [],
      "source": [
        "from sknetwork.data import load_netset, grid, karate_club\n",
        "from sknetwork.regression import Dirichlet\n",
        "from sknetwork.classification import DiffusionClassifier\n",
        "from sknetwork.ranking import PageRank\n",
        "from sknetwork.utils import directed2undirected\n",
        "from sknetwork.visualization import visualize_graph\n",
        "from sklearn.metrics import accuracy_score\n",
        "from sklearn.metrics import confusion_matrix"
      ]
    },
    {
      "cell_type": "markdown",
      "metadata": {
        "id": "H4Kw0u4Agipn"
      },
      "source": [
        "## Data"
      ]
    },
    {
      "cell_type": "markdown",
      "metadata": {
        "id": "9XePPbHGgipn"
      },
      "source": [
        "We will work on the following graphs (see the [NetSet](https://netset.telecom-paris.fr/) collection for details):\n",
        "* Openflights (graph)\n",
        "* WikiVitals (directed graph + bipartite graph)"
      ]
    },
    {
      "cell_type": "code",
      "execution_count": null,
      "metadata": {
        "colab": {
          "base_uri": "https://localhost:8080/"
        },
        "id": "R-Rj2rlEgipn",
        "outputId": "ad87818b-0860-4043-dcea-cf825d14582a"
      },
      "outputs": [],
      "source": [
        "openflights = load_netset('openflights')\n",
        "wikivitals = load_netset('wikivitals')"
      ]
    },
    {
      "cell_type": "markdown",
      "metadata": {
        "id": "BRR0l_9cgipn"
      },
      "source": [
        "## 1. Graphs"
      ]
    },
    {
      "cell_type": "markdown",
      "metadata": {
        "id": "7NdZQ1kwgipo"
      },
      "source": [
        "## Grid"
      ]
    },
    {
      "cell_type": "markdown",
      "metadata": {
        "id": "sBIrzXUdgipo"
      },
      "source": [
        "We first illustrate the notion of **contrastive ranking** on a $k\\times k$ grid."
      ]
    },
    {
      "cell_type": "code",
      "execution_count": null,
      "metadata": {
        "id": "TOchZDe-gipo"
      },
      "outputs": [],
      "source": [
        "k = 5\n",
        "dataset = grid(k, k, True)\n",
        "adjacency = dataset.adjacency\n",
        "position = dataset.position"
      ]
    },
    {
      "cell_type": "code",
      "execution_count": null,
      "metadata": {
        "colab": {
          "base_uri": "https://localhost:8080/",
          "height": 261
        },
        "id": "TYTutP9Fgipo",
        "outputId": "1d9789b9-c6c6-42a0-c670-bbc02fea9024"
      },
      "outputs": [],
      "source": [
        "image = visualize_graph(adjacency, position, names=np.arange(k * k), width=200, height=200)\n",
        "SVG(image)"
      ]
    },
    {
      "cell_type": "markdown",
      "metadata": {
        "id": "4E50qkpjgipo"
      },
      "source": [
        "## To do\n",
        "\n",
        "* Display the solution to the Dirichlet problem with 1 hot source and 1 cold source, located on the opposite corners of the square.\n",
        "* Add a hot source at the top-left corner of the square. What is the free node of highest temperature?"
      ]
    },
    {
      "cell_type": "code",
      "execution_count": null,
      "metadata": {
        "id": "4ZBBhh5igipo"
      },
      "outputs": [],
      "source": [
        "dirichlet = Dirichlet()"
      ]
    },
    {
      "cell_type": "code",
      "execution_count": null,
      "metadata": {
        "id": "kUk0MYbFgipo"
      },
      "outputs": [],
      "source": [
        "bottom_left = 0\n",
        "top_right = k * k - 1"
      ]
    },
    {
      "cell_type": "code",
      "execution_count": null,
      "metadata": {
        "id": "FNx89Pnzgipp"
      },
      "outputs": [],
      "source": [
        "values = {bottom_left: 0, top_right: 1}"
      ]
    },
    {
      "cell_type": "code",
      "execution_count": null,
      "metadata": {
        "id": "f2raRX1ygipp"
      },
      "outputs": [],
      "source": [
        "temperatures = dirichlet.fit_predict(adjacency, values=values)"
      ]
    },
    {
      "cell_type": "code",
      "execution_count": null,
      "metadata": {
        "colab": {
          "base_uri": "https://localhost:8080/",
          "height": 261
        },
        "id": "RWiEQVCAgipp",
        "outputId": "14049a8c-0293-4e1d-8479-dfdb9c8fc8c5"
      },
      "outputs": [],
      "source": [
        "image = visualize_graph(adjacency, position, scores=temperatures, width=200, height=200, names=np.arange(k * k))\n",
        "SVG(image)"
      ]
    },
    {
      "cell_type": "code",
      "execution_count": null,
      "metadata": {
        "colab": {
          "base_uri": "https://localhost:8080/",
          "height": 261
        },
        "id": "jI0rHjHViF1K",
        "outputId": "c6cd2657-ebaa-49c3-83b7-1c146ff1a55e"
      },
      "outputs": [],
      "source": [
        "# Add a hot source in the top left\n",
        "top_left = k - 1\n",
        "values[top_left] = 1\n",
        "temperatures = dirichlet.fit_predict(adjacency, values=values)\n",
        "image = visualize_graph(adjacency, position, scores=temperatures, width=200, height=200, names=np.arange(k * k))\n",
        "SVG(image)"
      ]
    },
    {
      "cell_type": "code",
      "execution_count": null,
      "metadata": {
        "colab": {
          "base_uri": "https://localhost:8080/"
        },
        "id": "Vl-5vYefjaO6",
        "outputId": "01c00521-da1c-4297-ed74-6c4a6eed5c50"
      },
      "outputs": [],
      "source": [
        "temp_copy = temperatures.copy()\n",
        "mask = (temperatures == 1) | (temperatures == 0)  # take the seed nodes (temp 0 or 1)\n",
        "temp_copy[mask] = -1  # exclude the seed nodes (set temperature to -1)\n",
        "highest_temp_node = np.argmax(temp_copy)\n",
        "print(f\"The free node with the highest temperature is Node n°  {highest_temp_node}\")"
      ]
    },
    {
      "cell_type": "markdown",
      "metadata": {
        "id": "-Xj-WVWkmM30"
      },
      "source": [
        "The result seems logical, because the furthest nodes to Node 0 are nodes 19 and 23, but the hottest ones must be the one who's closer to both out hot Nodes 4 and 24, so 19 is the hottest one."
      ]
    },
    {
      "cell_type": "markdown",
      "metadata": {
        "id": "PUWFtf6ogipp"
      },
      "source": [
        "## Karate Club\n"
      ]
    },
    {
      "cell_type": "markdown",
      "metadata": {
        "id": "elotm-drgipp"
      },
      "source": [
        "We now consider the **classification** of nodes by heat diffusion. We use the [karate club graph](https://en.wikipedia.org/wiki/Zachary%27s_karate_club) that has ground-truth labels."
      ]
    },
    {
      "cell_type": "code",
      "execution_count": null,
      "metadata": {
        "id": "92ZcM2e7gipp"
      },
      "outputs": [],
      "source": [
        "dataset = karate_club(True)"
      ]
    },
    {
      "cell_type": "code",
      "execution_count": null,
      "metadata": {
        "id": "cFFlKDUcgipp"
      },
      "outputs": [],
      "source": [
        "adjacency = dataset.adjacency\n",
        "position = dataset.position\n",
        "labels_true = dataset.labels"
      ]
    },
    {
      "cell_type": "code",
      "execution_count": null,
      "metadata": {
        "id": "N32nM6eBgipp"
      },
      "outputs": [],
      "source": [
        "n = len(labels_true)"
      ]
    },
    {
      "cell_type": "code",
      "execution_count": null,
      "metadata": {
        "colab": {
          "base_uri": "https://localhost:8080/",
          "height": 361
        },
        "id": "y-A4zoqugipp",
        "outputId": "b3c4c717-4764-4029-b92e-6e5ddc684aa2"
      },
      "outputs": [],
      "source": [
        "image = visualize_graph(adjacency, position, labels=labels_true, names=np.arange(n))\n",
        "SVG(image)"
      ]
    },
    {
      "cell_type": "markdown",
      "metadata": {
        "id": "5zA6Wor9gipp"
      },
      "source": [
        "## To do\n",
        "\n",
        "* Select one node in each ground-truth cluster, and predict the labels of the other nodes by heat diffusion.\n",
        "* Display the graph with the predicted labels.\n",
        "* What is the accuracy of the classification?"
      ]
    },
    {
      "cell_type": "code",
      "execution_count": null,
      "metadata": {
        "colab": {
          "base_uri": "https://localhost:8080/",
          "height": 379
        },
        "id": "gj1sbEqGgipq",
        "outputId": "34ce4383-0e05-484f-e8d6-7e30349fc130"
      },
      "outputs": [],
      "source": [
        "labels_true = np.array(labels_true)\n",
        "nodes_cluster0 = np.where(labels_true == 0)[0]\n",
        "nodes_cluster1 = np.where(labels_true == 1)[0]\n",
        "node0 = np.random.choice(nodes_cluster0)\n",
        "node1 = np.random.choice(nodes_cluster1)\n",
        "y_partial = -np.ones(n, dtype=int)\n",
        "y_partial[node0] = 0\n",
        "y_partial[node1] = 1\n",
        "\n",
        "classifier = DiffusionClassifier()\n",
        "\n",
        "y_pred = classifier.fit_predict(adjacency, y_partial)\n",
        "accuracy = accuracy_score(labels_true, y_pred)\n",
        "print(f\"Accuracy: {accuracy:.2f}\")\n",
        "\n",
        "image = visualize_graph(adjacency, position, labels=y_pred, names=np.arange(n))\n",
        "display(SVG(image))\n",
        "\n",
        "\n"
      ]
    },
    {
      "cell_type": "markdown",
      "metadata": {
        "id": "pLwDKThzgipq"
      },
      "source": [
        "## To do\n",
        "\n",
        "The classifier applies temperature centering after diffusion.\n",
        "\n",
        "* Repeat the same experiment without temperature centering.\n",
        "* Do the same experiments with 3 nodes in a ground-truth cluster and 1 in the other.\n",
        "* Comment the results."
      ]
    },
    {
      "cell_type": "code",
      "execution_count": null,
      "metadata": {
        "colab": {
          "base_uri": "https://localhost:8080/",
          "height": 379
        },
        "id": "I_2VNbhYgipq",
        "outputId": "652c694b-c37a-47db-a8fd-e46e73f93f47"
      },
      "outputs": [],
      "source": [
        "# Repeating the experiments with no centering\n",
        "labels_true = np.array(labels_true)\n",
        "nodes_cluster0 = np.where(labels_true == 0)[0]\n",
        "nodes_cluster1 = np.where(labels_true == 1)[0]\n",
        "node0 = np.random.choice(nodes_cluster0)\n",
        "node1 = np.random.choice(nodes_cluster1)\n",
        "y_partial = -np.ones(n, dtype=int)\n",
        "y_partial[node0] = 0\n",
        "y_partial[node1] = 1\n",
        "\n",
        "classifier = DiffusionClassifier(centering=False)\n",
        "\n",
        "y_pred = classifier.fit_predict(adjacency, y_partial)\n",
        "accuracy = accuracy_score(labels_true, y_pred)\n",
        "print(f\"Accuracy: {accuracy:.2f}\")\n",
        "\n",
        "image = visualize_graph(adjacency, position, labels=y_pred, names=np.arange(n))\n",
        "display(SVG(image))\n"
      ]
    },
    {
      "cell_type": "code",
      "execution_count": null,
      "metadata": {
        "colab": {
          "base_uri": "https://localhost:8080/",
          "height": 379
        },
        "id": "3QE3D6Pnpo0P",
        "outputId": "4668f4b4-5fa4-44e4-f5b8-ca509e708e89"
      },
      "outputs": [],
      "source": [
        "# Repeating the experiments with 3 nodes from one cluster and just one node from the other one\n",
        "labels_true = np.array(labels_true)\n",
        "nodes_cluster0 = np.where(labels_true == 0)[0]\n",
        "nodes_cluster1 = np.where(labels_true == 1)[0]\n",
        "node0 = np.random.choice(nodes_cluster0)\n",
        "nodes1 = np.random.choice(nodes_cluster1, 3, replace=False)\n",
        "y_partial = -np.ones(n, dtype=int)\n",
        "y_partial[node0] = 0\n",
        "y_partial[nodes1] = 1\n",
        "\n",
        "classifier = DiffusionClassifier()\n",
        "\n",
        "y_pred = classifier.fit_predict(adjacency, y_partial)\n",
        "accuracy = accuracy_score(labels_true, y_pred)\n",
        "print(f\"Accuracy: {accuracy:.2f}\")\n",
        "\n",
        "image = visualize_graph(adjacency, position, labels=y_pred, names=np.arange(n))\n",
        "display(SVG(image))\n"
      ]
    },
    {
      "cell_type": "markdown",
      "metadata": {
        "id": "d_ebHpOjslQ0"
      },
      "source": [
        "### No centering :\n",
        "When temperature centering is disabled, the diffusion process may produce biased class probabilities. This is because the raw heat values that propagate through the graph are not normalized or adjusted to account for the global balance between classes. As a result, nodes closer to a labeled example may receive stronger signals regardless of their structural similarity to other regions. Sometimes we can even get an accuracy that's less than 50%.\n",
        "\n",
        "### Balanced (1 vs 1) vs. Imbalanced (3 vs 1) Labeling :\n",
        "In a balanced setup where one labeled node is chosen per class, the classifier treats both classes equally, and the diffusion process is less biased. However, when more nodes are labeled in one class than the other (e.g., 3 vs 1), the diffusion inherently favors the majority-labeled class."
      ]
    },
    {
      "cell_type": "markdown",
      "metadata": {
        "id": "RO6HMh6qgipq"
      },
      "source": [
        "## Openflights\n"
      ]
    },
    {
      "cell_type": "markdown",
      "metadata": {
        "id": "ezErMmPdgipq"
      },
      "source": [
        "We now show how to classify the nodes of a graph **without labels**. We identify some nodes of interest and use these seeds to classify the other nodes."
      ]
    },
    {
      "cell_type": "code",
      "execution_count": null,
      "metadata": {
        "id": "vnVjmYtKgipq"
      },
      "outputs": [],
      "source": [
        "dataset = openflights"
      ]
    },
    {
      "cell_type": "code",
      "execution_count": null,
      "metadata": {
        "id": "5IkOUsaLgipq"
      },
      "outputs": [],
      "source": [
        "adjacency = dataset.adjacency\n",
        "position = dataset.position\n",
        "names = dataset.names"
      ]
    },
    {
      "cell_type": "code",
      "execution_count": null,
      "metadata": {
        "colab": {
          "base_uri": "https://localhost:8080/",
          "height": 461
        },
        "id": "cXuFpQPcgipq",
        "outputId": "9b01f6a0-3585-42bf-861a-37507df55b08"
      },
      "outputs": [],
      "source": [
        "image = visualize_graph(adjacency, position, width=800, height=400, node_size=3, display_edges=False)\n",
        "SVG(image)"
      ]
    },
    {
      "cell_type": "markdown",
      "metadata": {
        "id": "w9FlMYUKgipq"
      },
      "source": [
        "## To do\n",
        "\n",
        "* Display the same world map with the labels predicted for 3 seeds (Paris, New-York, Beijing), each with its own  label.\n",
        "* Add Madrid with another label and comment the results."
      ]
    },
    {
      "cell_type": "code",
      "execution_count": null,
      "metadata": {
        "id": "4PdXQ8DMgipq"
      },
      "outputs": [],
      "source": [
        "paris = 622\n",
        "newyork = 1842\n",
        "beijing = 1618\n",
        "madrid = 572"
      ]
    },
    {
      "cell_type": "code",
      "execution_count": null,
      "metadata": {
        "colab": {
          "base_uri": "https://localhost:8080/",
          "height": 461
        },
        "id": "tGor3os9uGjl",
        "outputId": "fa0a68ab-ac26-48ba-ca4b-8e2051721caf"
      },
      "outputs": [],
      "source": [
        "# Clustering with only three Labels\n",
        "n = len(names)\n",
        "y_partial = -np.ones(n, dtype=int)\n",
        "y_partial[paris] = 0\n",
        "y_partial[newyork] = 1\n",
        "y_partial[beijing] = 2\n",
        "classifier = DiffusionClassifier()\n",
        "y_pred = classifier.fit_predict(adjacency, y_partial)\n",
        "\n",
        "image = visualize_graph(adjacency, position, labels=y_pred, width=800, height=400, node_size=3, display_edges=False)\n",
        "display(SVG(image))\n"
      ]
    },
    {
      "cell_type": "code",
      "execution_count": null,
      "metadata": {
        "colab": {
          "base_uri": "https://localhost:8080/",
          "height": 461
        },
        "id": "2A36KVNUujKd",
        "outputId": "1f741127-5f38-4d01-9d32-13446899c414"
      },
      "outputs": [],
      "source": [
        "# Adding label 4 Madrid\n",
        "y_partial[madrid] = 3\n",
        "classifier = DiffusionClassifier()\n",
        "y_pred = classifier.fit_predict(adjacency, y_partial)\n",
        "\n",
        "image = visualize_graph(adjacency, position, labels=y_pred, width=800, height=400, node_size=3, display_edges=False)\n",
        "display(SVG(image))\n"
      ]
    },
    {
      "cell_type": "markdown",
      "metadata": {
        "id": "3j8FyDIa9qUn"
      },
      "source": [
        "## Commenting results ;\n",
        "With only three labeled cities, the diffusion classifier propagates labels throughout the graph based on proximity and connectivity. Most airports got classified into the region corresponding to their closest and most connected seed city. Europe and Africa are mostly influenced by Paris, North America by New York, and Asia by Beijing. This division reflects global airline route patterns quite well.\n",
        "But Introducing Madrid creates a more nuanced segmentation of Europe and possibly parts of Africa or Latin America. Since Madrid is geographically close to Paris but may have distinct flight routes (especially toward Spanish-speaking countries like in South America), it slightly splits the region previously dominated by Paris. As a result, some nodes that were previously labeled like Paris may now get the Madrid label, especially if they are more connected to Madrid than to Paris. This shows how sensitive diffusion is to the choice and number of seed nodes — adding one can change boundaries significantly.\n"
      ]
    },
    {
      "cell_type": "markdown",
      "metadata": {
        "id": "2xu8l7un_LH_"
      },
      "source": [
        "We finally use *Constrative ranking*"
      ]
    },
    {
      "cell_type": "markdown",
      "metadata": {
        "id": "LME7avRFgipr"
      },
      "source": [
        "## To do\n",
        "\n",
        "* List the top-10 airports that are the closest to Tokyo in terms of Personalized PageRank.\n",
        "* List of the top-10 airports that are both the closest to Tokyo and the furthest from Paris Charles de Gaulle, using heat diffusion (contrastive ranking).<br>What do you observe?\n",
        "* Give the temperatures of these airports after heat diffusion and explain the result."
      ]
    },
    {
      "cell_type": "code",
      "execution_count": null,
      "metadata": {
        "id": "VgsC-TyRgipr"
      },
      "outputs": [],
      "source": [
        "tokyo = 1084"
      ]
    },
    {
      "cell_type": "code",
      "execution_count": null,
      "metadata": {
        "colab": {
          "base_uri": "https://localhost:8080/"
        },
        "id": "ipYqOb__-gFU",
        "outputId": "6bf10f88-2a07-4767-c2ea-c02ecd74afdb"
      },
      "outputs": [],
      "source": [
        "# Top 10 airports that are the closest to Tokyo in terms of PPR\n",
        "pagerank = PageRank()\n",
        "scores = pagerank.fit_predict(adjacency, weights={tokyo: 1})\n",
        "top_pagerank = np.argsort(-scores)[:10]\n",
        "print(names[top_pagerank])"
      ]
    },
    {
      "cell_type": "code",
      "execution_count": null,
      "metadata": {
        "colab": {
          "base_uri": "https://localhost:8080/"
        },
        "id": "_hfZh9Rh-h6Y",
        "outputId": "f902d363-906f-4815-9f02-f200938a1bea"
      },
      "outputs": [],
      "source": [
        "# Top 10 airports closest to Tokyo and furthest to Paris\n",
        "dirichlet = Dirichlet()\n",
        "values = {paris: 0, tokyo: 1}\n",
        "temperatures = dirichlet.fit_predict(adjacency, values)\n",
        "top_diffusion = np.argsort(-temperatures)[:10]\n",
        "print(\"Top 10 airports close to Tokyo and far from Paris (by heat diffusion):\")\n",
        "for i in top_diffusion:\n",
        "    print(f\"{names[i]}: temperature = {temperatures[i]:.4f}\")"
      ]
    },
    {
      "cell_type": "markdown",
      "metadata": {
        "id": "EIrYBfJHA3Kb"
      },
      "source": [
        "Personalized PageRank (PPR) ranks airports based on how frequently they’re visited during a biased random walk starting from Tokyo. It highlights airports that are not only geographically close but also highly connected to Tokyo in the global network. As a result, the top airports tend to be major East Asian hubs like Osaka or Seoul, which are frequently reached from Tokyo and serve as central nodes in the regional flight network.\n",
        "\n",
        "Contrastive heat diffusion using the Dirichlet method offers a different perspective by setting Tokyo as a hot source (1) and Paris as a cold one (0). It computes which airports are structurally closer to Tokyo and farther from Paris. This leads to a more regionally focused ranking, emphasizing airports that fall under Tokyo’s sphere of influence while being distant from European hubs. It’s more effective at revealing clear separations between different zones in the network.\n",
        "\n",
        "We see that the temperatures of these airports is equal to one which means that they are directly connected to Tokyo and with no influence from Paris."
      ]
    },
    {
      "cell_type": "markdown",
      "metadata": {
        "id": "7D5O8envgip1"
      },
      "source": [
        "## Wikipedia Vitals"
      ]
    },
    {
      "cell_type": "markdown",
      "metadata": {
        "id": "pvj2vrxMgip2"
      },
      "source": [
        "We now consider the graph of links of WikiVitals, considered as undirected. We first focus on **constrastive ranking**, then on **node classification**."
      ]
    },
    {
      "cell_type": "code",
      "execution_count": null,
      "metadata": {
        "id": "JamBCmnJgip2"
      },
      "outputs": [],
      "source": [
        "dataset = wikivitals"
      ]
    },
    {
      "cell_type": "code",
      "execution_count": null,
      "metadata": {
        "id": "K5oxEai-gip2"
      },
      "outputs": [],
      "source": [
        "adjacency = dataset.adjacency\n",
        "names = dataset.names\n",
        "labels = dataset.labels\n",
        "names_labels = dataset.names_labels"
      ]
    },
    {
      "cell_type": "code",
      "execution_count": null,
      "metadata": {
        "id": "5k4YEkqmgip2"
      },
      "outputs": [],
      "source": [
        "adjacency = directed2undirected(adjacency)"
      ]
    },
    {
      "cell_type": "markdown",
      "metadata": {
        "id": "nUc61dOUgip2"
      },
      "source": [
        "## Contrastive ranking"
      ]
    },
    {
      "cell_type": "markdown",
      "metadata": {
        "id": "6LODpAUbgip2"
      },
      "source": [
        "## To do\n",
        "\n",
        "* List the top-10 articles that are close to **Cat** and **Dog** in terms of Personalized PageRank.\n",
        "* Compare with the list of top-10 articles that are close to **Cat** and **Dog** and far from **Bear** and **Tiger** using heat diffusion (contrastive ranking).\n",
        "* List the top-10 articles that are close to **Bear** and **Tiger** and far from **Cat** and **Dog** (you can use previous diffusion). Interpret the results."
      ]
    },
    {
      "cell_type": "code",
      "execution_count": null,
      "metadata": {
        "id": "YTPUg1zEgip3"
      },
      "outputs": [],
      "source": [
        "pagerank = PageRank()"
      ]
    },
    {
      "cell_type": "code",
      "execution_count": null,
      "metadata": {
        "colab": {
          "base_uri": "https://localhost:8080/"
        },
        "id": "jgrd0F0hgip3",
        "outputId": "316b8e42-6a21-4f79-fe34-d40c75deb243"
      },
      "outputs": [],
      "source": [
        "#  Top 10 articles close to Cat and Dog\n",
        "cat = np.flatnonzero(names == \"Cat\")[0]\n",
        "dog = np.flatnonzero(names == \"Dog\")[0]\n",
        "scores = pagerank.fit_predict(adjacency, weights={cat: 1, dog: 1}, force_bipartite=True)\n",
        "top_pagerank = np.argsort(-scores)[:10]\n",
        "print(names[top_pagerank])"
      ]
    },
    {
      "cell_type": "code",
      "execution_count": null,
      "metadata": {
        "colab": {
          "base_uri": "https://localhost:8080/"
        },
        "id": "6vchn3gXCVvh",
        "outputId": "b2aae530-a27c-487d-d2fa-51c0737f9c49"
      },
      "outputs": [],
      "source": [
        "# Top 10 closest to cat dog and furthest to Bear and tiger\n",
        "bear = np.flatnonzero(names == \"Bear\")[0]\n",
        "tiger = np.flatnonzero(names == \"Tiger\")[0]\n",
        "dirichlet = Dirichlet()\n",
        "values = {cat: 1, dog: 1, bear: 0, tiger: 0}\n",
        "temperatures = dirichlet.fit_predict(adjacency, values, force_bipartite=True)\n",
        "top_diffusion = np.argsort(-temperatures)[:10]\n",
        "print(\"Top 10 articles close to cat dog and far from bear tiger: \", names[top_diffusion])\n"
      ]
    },
    {
      "cell_type": "code",
      "execution_count": null,
      "metadata": {
        "colab": {
          "base_uri": "https://localhost:8080/"
        },
        "id": "-qJXRY9oDmCy",
        "outputId": "37ebe73a-1026-48cd-e292-bdd8e08db251"
      },
      "outputs": [],
      "source": [
        "# Top 10 furthest to cat dog and closest to Bear and tiger\n",
        "top_diffusion = np.argsort(-temperatures)[len(top_diffusion)-10:]\n",
        "print(\"Top 10 articles far from cat dog and closest to bear tiger: \", names[top_diffusion])"
      ]
    },
    {
      "cell_type": "markdown",
      "metadata": {
        "id": "4dgS5oM1EGPe"
      },
      "source": [
        "PPR results givs articles that are directly or indirectly connected to \"Cat\" and \"Dog\", like \"Domestic Animal\", \"Pet\", or other related animals. However, this method does not consider any negative influence (e.g., Bear or Tiger), so high scores could also include general animal-related nodes.\n",
        "\n",
        "Contrastive diffusion adds nuance: it not only finds what is close to \"Cat\" and \"Dog\" but also penalizes nodes that are related to \"Bear\" and \"Tiger\". As a result, the top results are more specific to the pet/domestic animal theme, filtering out unrelated wild animals.\n",
        "\n",
        "Similarly, when reversed (Bear and Tiger = hot, Cat and Dog = cold), the diffusion reveals a wild animal cluster—articles about predators, wilderness, or ecosystems distant from domesticated animals, also legendary creatures."
      ]
    },
    {
      "cell_type": "markdown",
      "metadata": {
        "id": "v8E3QV89gip3"
      },
      "source": [
        "## Node classification\n",
        "\n",
        "We now use the ground-truth labels provided by the category of each article."
      ]
    },
    {
      "cell_type": "code",
      "execution_count": null,
      "metadata": {
        "colab": {
          "base_uri": "https://localhost:8080/"
        },
        "id": "lYGqBxpggip3",
        "outputId": "d21e55ba-2528-4740-bcae-7030449461ff"
      },
      "outputs": [],
      "source": [
        "print(names_labels)"
      ]
    },
    {
      "cell_type": "markdown",
      "metadata": {
        "id": "odsQ6zfMgip3"
      },
      "source": [
        "## To do\n",
        "\n",
        "* What is the accuracy of node classification, using half of the nodes in the train set?\n",
        "* Display the confusion matrix. What is the most difficult class to predict?\n",
        "* Give examples of misclassification for each label (e.g., 2 false positives and 2 false negatives per label)."
      ]
    },
    {
      "cell_type": "code",
      "execution_count": null,
      "metadata": {
        "colab": {
          "base_uri": "https://localhost:8080/"
        },
        "id": "AuGmZG0cIB8X",
        "outputId": "0b53c15f-a76d-4c14-c15a-8131b8474548"
      },
      "outputs": [],
      "source": [
        "# Accuracy of node classification using half of the train set\n",
        "dataset = wikivitals\n",
        "adjacency = dataset.adjacency\n",
        "labels_true = dataset.labels\n",
        "classifier = DiffusionClassifier()\n",
        "labels = labels_true.copy()\n",
        "mask = np.random.random(size=len(labels_true)) < 0.5\n",
        "labels[~mask] = -1\n",
        "labels_pred = classifier.fit_predict(adjacency, labels)\n",
        "print(\"Accuracy : \", np.mean(labels_pred[~mask] == labels_true[~mask]))"
      ]
    },
    {
      "cell_type": "code",
      "execution_count": null,
      "metadata": {
        "colab": {
          "base_uri": "https://localhost:8080/",
          "height": 564
        },
        "id": "ClGPEg4dILyw",
        "outputId": "f444f81f-1ecc-4f13-858f-b8ac9dd7309b"
      },
      "outputs": [],
      "source": [
        "cm = confusion_matrix(labels_true[~mask], labels_pred[~mask])\n",
        "\n",
        "# Plot the confusion matrix\n",
        "plt.figure(figsize=(8, 6))\n",
        "sns.heatmap(cm, annot=True, fmt='d', cmap='Blues')\n",
        "plt.title(\"Confusion Matrix on Test Set\")\n",
        "plt.xlabel(\"Predicted Labels\")\n",
        "plt.ylabel(\"True Labels\")\n",
        "plt.show()"
      ]
    },
    {
      "cell_type": "code",
      "execution_count": null,
      "metadata": {
        "colab": {
          "base_uri": "https://localhost:8080/"
        },
        "id": "Q9adntBzKU_h",
        "outputId": "aca21715-8de8-40a8-f653-d5b3d74cbd96"
      },
      "outputs": [],
      "source": [
        "# Examples of missclassifications\n",
        "unique_labels = np.unique(labels_true)\n",
        "test_indices = np.where(~mask)[0]\n",
        "print(\"Examples of Misclassifications:\\n\")\n",
        "for label in unique_labels:\n",
        "    false_positives = []\n",
        "    false_negatives = []\n",
        "    for idx in test_indices:\n",
        "        true = labels_true[idx]\n",
        "        pred = labels_pred[idx]\n",
        "        if pred == label and true != label:\n",
        "            false_positives.append(idx)\n",
        "        if true == label and pred != label:\n",
        "            false_negatives.append(idx)\n",
        "    label_name = names_labels[label]\n",
        "    print(f\"Label  {label_name}:\")\n",
        "    print(\"-False Positives:\")\n",
        "    for i in false_positives[:2]:\n",
        "        print(f\"{names[i]} — True = {labels_true[i]}, Pred = {labels_pred[i]}\")\n",
        "    print(\"-False Negatives:\")\n",
        "    for i in false_negatives[:2]:\n",
        "        print(f\"{names[i]} — True = {labels_true[i]}, Pred = {labels_pred[i]}\")\n",
        "    print()\n"
      ]
    },
    {
      "cell_type": "markdown",
      "metadata": {
        "id": "uCpuJiK4gip3"
      },
      "source": [
        "## To do\n",
        "\n",
        "* Classify each article of the **People** category in one of the other categories (Mathematics, History, etc.), using all other labels.\n",
        "* List the top-5 predicted people of each category using Personalized PageRank."
      ]
    },
    {
      "cell_type": "code",
      "execution_count": null,
      "metadata": {
        "id": "-CjgQgYgMOVl"
      },
      "outputs": [],
      "source": [
        "# Classify each article of the People category in other categories\n",
        "people = np.flatnonzero(names_labels == \"People\")[0]\n",
        "labels = labels_true.copy()\n",
        "labels[labels == people] = -1\n",
        "labels_pred = classifier.fit_predict(adjacency, labels)"
      ]
    },
    {
      "cell_type": "code",
      "execution_count": null,
      "metadata": {
        "colab": {
          "base_uri": "https://localhost:8080/"
        },
        "id": "Ba_CtEmrN-AL",
        "outputId": "729a3c85-7c3a-43e5-9e7f-eefb0937dc55"
      },
      "outputs": [],
      "source": [
        "# Top 5 people of each category\n",
        "for label in np.unique(labels_true):\n",
        "    if label != 6:\n",
        "        pagerank = PageRank()\n",
        "        mask = (labels_pred == label) & (labels_true == 6)\n",
        "        scores = pagerank.fit_predict(adjacency, mask, force_bipartite=True)\n",
        "        scores *= mask\n",
        "        print(names_labels[label], f\"({np.sum(mask)})\")\n",
        "        print(names[np.argsort(-scores)[:5]])\n",
        "        print()"
      ]
    },
    {
      "cell_type": "markdown",
      "metadata": {
        "id": "IDcLVq2bgip3"
      },
      "source": [
        "## 2. Bipartite graphs"
      ]
    },
    {
      "cell_type": "markdown",
      "metadata": {
        "id": "mNComfL4gip4"
      },
      "source": [
        "Finally, we consider the bipartite graph between articles and words in WikiVitals."
      ]
    },
    {
      "cell_type": "code",
      "execution_count": null,
      "metadata": {
        "id": "_pFTW-XJgip4"
      },
      "outputs": [],
      "source": [
        "dataset = wikivitals\n",
        "biadjacency = dataset.biadjacency"
      ]
    },
    {
      "cell_type": "code",
      "execution_count": null,
      "metadata": {
        "id": "nV0x_nM_gip4"
      },
      "outputs": [],
      "source": [
        "words = dataset.names_col"
      ]
    },
    {
      "cell_type": "markdown",
      "metadata": {
        "id": "pq5bCmp8gip5"
      },
      "source": [
        "## To do\n",
        "\n",
        "* Repeat the experiments on node classification using the bipartite graph between articles and words.\n",
        "* Which information seems to be richer, the text or the links between articles?\n",
        "* Propose a solution exploiting both sources of information."
      ]
    },
    {
      "cell_type": "code",
      "execution_count": null,
      "metadata": {
        "colab": {
          "base_uri": "https://localhost:8080/"
        },
        "id": "HO3m4-UUPoDE",
        "outputId": "78319b04-0200-4927-d599-9e3d22ec4e84"
      },
      "outputs": [],
      "source": [
        "classifier = DiffusionClassifier()\n",
        "labels = labels_true.copy()\n",
        "mask = np.random.random(size=len(labels_true)) < 0.5\n",
        "labels[~mask] = -1\n",
        "labels_pred = classifier.fit_predict(biadjacency, labels)\n",
        "print(np.mean(labels_pred[~mask] == labels_true[~mask]))"
      ]
    },
    {
      "cell_type": "code",
      "execution_count": null,
      "metadata": {
        "colab": {
          "base_uri": "https://localhost:8080/"
        },
        "id": "ZE2dy7J5PzLw",
        "outputId": "8ef1c7cc-d94c-4396-f612-994fda785037"
      },
      "outputs": [],
      "source": [
        "labels = labels_true.copy()\n",
        "labels[labels == people] = -1\n",
        "labels_pred = classifier.fit_predict(biadjacency, labels)\n",
        "for label in np.unique(labels_true):\n",
        "    if label != 6:\n",
        "        pagerank = PageRank()\n",
        "        mask = (labels_pred == label) & (labels_true == 6)\n",
        "        scores = pagerank.fit_predict(biadjacency, mask)\n",
        "        scores *= mask\n",
        "        print(names_labels[label], f\"({np.sum(mask)})\")\n",
        "        print(names[np.argsort(-scores)[:5]])\n",
        "        print()"
      ]
    },
    {
      "cell_type": "markdown",
      "metadata": {
        "id": "tKT7IEhLQs9R"
      },
      "source": [
        "## Which is richer texts or links ?\n",
        "Article links (original graph):\n",
        "Often reflect human-curated structure (like Wikipedia hyperlinks), which capture semantic relationships between topics.\n",
        "\n",
        "Text (bipartite graph):\n",
        "Encodes more semantic content directly. It works well if the text contains distinctive vocabulary per topic — especially for science/history categories."
      ]
    },
    {
      "cell_type": "markdown",
      "metadata": {
        "id": "d-nQDJaCSJaG"
      },
      "source": [
        "## Proposition to use both sources of information :\n",
        "To effectively leverage both article links and textual content for node classification, a powerful approach is to construct a combined graph that integrates both sources of information. This can be done by forming a block adjacency matrix where articles are connected to each other via their original hyperlinks and simultaneously linked to the words they contain through a bipartite structure. Specifically, the article-article adjacency matrix (capturing link structure) is placed in the top-left, and the article-word biadjacency matrix (capturing textual content) in the top-right and bottom-left blocks, forming an augmented graph. By applying a diffusion-based method or a graph neural network on this unified graph, information can propagate through both semantic and structural pathways, enabling more accurate and robust classification. This fusion effectively combines the global structure of hyperlinks with the local semantic signals from text."
      ]
    },
    {
      "cell_type": "code",
      "execution_count": null,
      "metadata": {
        "colab": {
          "base_uri": "https://localhost:8080/"
        },
        "id": "pGLBzJATSn71",
        "outputId": "2e0758db-ca54-4ed9-cc86-f2a6dae1b493"
      },
      "outputs": [],
      "source": [
        "full_matrix = sparse.hstack((adjacency, biadjacency))\n",
        "labels_pred = classifier.fit_predict(full_matrix, labels)\n",
        "print(np.mean(labels_pred[~mask] == labels_true[~mask]))"
      ]
    }
  ],
  "metadata": {
    "anaconda-cloud": {},
    "colab": {
      "provenance": []
    },
    "hide_input": false,
    "kernelspec": {
      "display_name": "Python 3",
      "language": "python",
      "name": "python3"
    },
    "language_info": {
      "codemirror_mode": {
        "name": "ipython",
        "version": 3
      },
      "file_extension": ".py",
      "mimetype": "text/x-python",
      "name": "python",
      "nbconvert_exporter": "python",
      "pygments_lexer": "ipython3",
      "version": "3.11.9"
    }
  },
  "nbformat": 4,
  "nbformat_minor": 0
}
