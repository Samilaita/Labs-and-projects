{
  "cells": [
    {
      "cell_type": "markdown",
      "metadata": {
        "id": "x-sAp-8qISwW"
      },
      "source": [
        "# <ins style = \"color : orange\" > Hawkes Process Analysis of Data Breaches. By LAITA Sami, BARAKA Rayane and KHOUTAIBI Illiass\n",
        "  \n",
        "This notebook performs an analysis of data breaches using a Hawkes process model. The goal is to model the times between successive data breach events and estimate the parameters of the Hawkes process that best describe the observed data.\n",
        "\n",
        "The Hawkes process is a self-exciting point process, meaning that the occurrence of an event increases the probability of future events. This is particularly relevant for modeling data breaches, as one breach might trigger subsequent attacks or reveal vulnerabilities that lead to more breaches.\n",
        "\n",
        "We will focus on estimating the parameters of the Hawkes process with an exponential decay kernel, given by the intensity function:\n",
        "\n",
        "$$\n",
        "\\dot{y}(N,t)=\\alpha+\\beta\\int_0^{t}e^{γ(t−s)} dN(s)$$\n",
        "\n",
        "where:\n",
        "- $\\alpha$ is the background intensity of events.\n",
        "- $\\beta$ is the exciting factor, representing the average number of new events triggered by a previous event.\n",
        "- $\\gamma$ is the decay rate of the excitation effect."
      ]
    },
    {
      "cell_type": "code",
      "execution_count": 3,
      "metadata": {
        "id": "r2jvltNDISwZ"
      },
      "outputs": [],
      "source": [
        "import pandas as pd\n",
        "from datetime import datetime\n",
        "from scipy.optimize import minimize,root_scalar\n",
        "import numpy as np\n",
        "import matplotlib.pylab as plt\n",
        "from scipy.stats import expon, chisquare, chi2, kstest\n",
        "from scipy.integrate import quad\n",
        "from scipy.optimize import minimize\n",
        "from scipy import stats"
      ]
    },
    {
      "cell_type": "markdown",
      "metadata": {
        "id": "CI_RusOaISwa"
      },
      "source": [
        "### Loading the data\n",
        "\n",
        "First of all, let us load the data of the PRC, which will be used further down to detemine the coefficients of the <strong>Hawks</strong> process."
      ]
    },
    {
      "cell_type": "code",
      "execution_count": 4,
      "metadata": {
        "colab": {
          "base_uri": "https://localhost:8080/",
          "height": 430
        },
        "id": "0j5rjAg8ISwb",
        "outputId": "ccfaaedc-7013-4583-abbf-79ad8b174046"
      },
      "outputs": [
        {
          "data": {
            "image/png": "[encoded data removed]",
            "text/plain": [
              "<Figure size 640x480 with 1 Axes>"
            ]
          },
          "metadata": {},
          "output_type": "display_data"
        }
      ],
      "source": [
        "df=pd.read_csv(\"PRC.csv\",sep=';')\n",
        "dff=df.loc[df['Type of breach']==\"HACK\",'Date Made Public']\n",
        "dff=dff.apply(lambda x:datetime.strptime(x,'%m/%d/%Y'))\n",
        "debut=min(dff)\n",
        "dff=dff-debut\n",
        "dff=dff.apply(lambda x:x.days).sort_values()\n",
        "l=np.asarray(dff)[1:]\n",
        "unique_l = np.unique(l)\n",
        "plt.scatter(l,1+np.arange(len(l)),s=0.1)\n",
        "plt.show()"
      ]
    },
    {
      "cell_type": "markdown",
      "metadata": {
        "id": "7s2X_jiyISwc"
      },
      "source": [
        "For a complete description of its content and of the motivations behind this analysis. We are going to make a simplified analysis by modeling time of attacks by a Hawkes process with intensity  \n",
        "\n",
        "$$\n",
        "\\dot{y}(N,t)=\\alpha+\\beta\\int_0^{t}e^{γ(t−s)} dN(s)$$\n",
        "\n",
        "\n",
        "The log-likelihood function is defined as:\n",
        "\n",
        "$$\n",
        "\\log L(N, t) = \\sum_{T_n \\leq t} \\log \\left(\\alpha + \\beta \\sum_{j=1}^{n-1} e^{-\\gamma\\left(T_n-T_j\\right)}\\right) + (1-\\alpha) t - \\frac{\\beta}{\\gamma} \\sum_{T_n \\leq t} \\left(1 - e^{-\\gamma\\left(t-T_n\\right)}\\right)\n",
        "$$\n",
        "\n",
        "In order to maximize the log-likelihood (minize the negative log-likelihood in this case). Scipy offers a <strong>minimization</strong> function, whcih takes in parameters the function to minimize, the constraints of said minimization and the initial coordinates of minimization.\n",
        "\n",
        "The initial params are detrimental in the minimization. In the cell down below, we have decided to implement a function whcih helps us determine the best initial conditions for our optimization problem.\n",
        "\n",
        "We first define our log-likelihhod function.\n"
      ]
    },
    {
      "cell_type": "code",
      "execution_count": 75,
      "metadata": {
        "id": "LpFzAllh4QY-"
      },
      "outputs": [],
      "source": [
        "def neg_log_likelihood(params, time, eps = 1e-10):\n",
        "    \"\"\"\n",
        "    function which returns the negative log-likelihood of the process given the parameters and the jump times\n",
        "    arg:\n",
        "        params: parameters of the model\n",
        "        time: jump times\n",
        "    return:\n",
        "        negative log-likelihood (float)\n",
        "    \"\"\"\n",
        "\n",
        "    # variables and parameters\n",
        "    alpha, beta, gamma = params\n",
        "    t = time[-1]\n",
        "\n",
        "    # log-likelihood and integral term\n",
        "    ll = 0.0\n",
        "    S = 0.0\n",
        "\n",
        "    # internal sum\n",
        "    for tn in time[time <= t]:\n",
        "        ll += np.log(alpha + beta * S + eps)\n",
        "        S += np.sum(np.exp(-gamma * (tn - time[time < tn])))\n",
        "    # right-hand term\n",
        "    ll += (1 - alpha) * t - (beta / gamma) * np.sum(1 - np.exp(-gamma * (t - time)))\n",
        "    return -ll\n",
        "\n",
        "def objective_function(params):\n",
        "    return neg_log_likelihood(params, l)"
      ]
    },
    {
      "cell_type": "code",
      "execution_count": 52,
      "metadata": {
        "id": "5Xd2bEWadK2I"
      },
      "outputs": [],
      "source": [
        "constraints = [\n",
        "          {'type': 'ineq', 'fun': lambda x: x[0]+1e-18},  # alpha > 0\n",
        "          {'type': 'ineq', 'fun': lambda x: x[1]+1e-18},  # beta > 0\n",
        "          {'type': 'ineq', 'fun': lambda x: x[2]+1e-18},\n",
        "          {'type': 'ineq', 'fun': lambda x: 1-x[1]/x[2] }]  # gamma > 0"
      ]
    },
    {
      "cell_type": "code",
      "execution_count": 19,
      "metadata": {
        "id": "x2iUIHx2Qlo6"
      },
      "outputs": [],
      "source": [
        "#on définit la liste des temps d'arrivés uniques et le nombre d'arrivées pour chaque temps\n",
        "\n",
        "l_uniques=[]\n",
        "count_l=[]\n",
        "for t in l:\n",
        "    if t not in l_uniques:\n",
        "        l_uniques.append(t)\n",
        "        count_l.append(1)\n",
        "    else:\n",
        "        i=l_uniques.index(t)\n",
        "        count_l[i]+=1\n",
        "\n",
        "\n",
        "#on remarque qu'il y a des doublons\n",
        "len(l_uniques)==len(l)\n",
        "\n",
        "l_uniques_array = np.array(l_uniques)"
      ]
    },
    {
      "cell_type": "markdown",
      "metadata": {
        "id": "vH2dAgiFvMOw"
      },
      "source": [
        "Now we can begin out exploration. To make things easier, we will fix $\\beta = 0.5$ and $\\gamma = 1.0$. Our initial parameter exploration will go through $\\alpha$."
      ]
    },
    {
      "cell_type": "code",
      "execution_count": 76,
      "metadata": {
        "colab": {
          "base_uri": "https://localhost:8080/",
          "height": 504
        },
        "id": "ZEB9qx0XvMOx",
        "outputId": "75e3a85a-3368-4ecf-a16f-5ad640c41672"
      },
      "outputs": [
        {
          "name": "stdout",
          "output_type": "stream",
          "text": [
            "Plotting the impact of Alpha on the log-likelihood function:\n"
          ]
        },
        {
          "data": {
            "image/png": "[encoded data removed]",
            "text/plain": [
              "<Figure size 1000x500 with 1 Axes>"
            ]
          },
          "metadata": {},
          "output_type": "display_data"
        }
      ],
      "source": [
        "# Let's fix beta and gamma for this exploration\n",
        "beta_fixed = 0.5\n",
        "gamma_fixed = 1.0\n",
        "\n",
        "# Exploting Alpha\n",
        "print(\"Plotting the impact of Alpha on the log-likelihood function:\")\n",
        "alphas_explore = np.arange(0, 0.1, 0.01)\n",
        "likelihood_alpha = []\n",
        "\n",
        "\n",
        "try:\n",
        "    for alpha_val in alphas_explore:\n",
        "        log_like_val = -neg_log_likelihood([alpha_val, beta_fixed, gamma_fixed],l)\n",
        "        likelihood_alpha.append(-log_like_val)\n",
        "\n",
        "except ValueError:\n",
        "   likelihood_alpha.append(np.nan)\n",
        "\n",
        "likelihood_alpha = np.array(likelihood_alpha)\n",
        "\n",
        "plt.figure(figsize=(10, 5))\n",
        "plt.title(\"Alpha's impact on log-likelihood\")\n",
        "plt.plot(alphas_explore, likelihood_alpha)\n",
        "plt.xlabel(r\"$\\alpha$\")\n",
        "plt.ylabel(\"log_likelihood\")\n",
        "plt.grid()\n",
        "plt.show()"
      ]
    },
    {
      "cell_type": "code",
      "execution_count": 77,
      "metadata": {
        "id": "UfeDhacFvMOy"
      },
      "outputs": [],
      "source": [
        "# Choose some values for beta and gamma to test\n",
        "beta_values_to_test = [0.1, 0.5,  1.0, 2.0]\n",
        "gamma_values_to_test = [0.5, 1.0, 2.0, 5.0]\n",
        "alpha_fixed = 0.02\n",
        "\n",
        "# Result of the minimization\n",
        "results = {}\n",
        "\n",
        "# Constraint of the minimization, as explained in the course.\n",
        "constr = [{'type': 'ineq', 'fun': lambda x: 1-x[1]/x[2] }, # beta/gamma < 1\n",
        "          {'type': 'ineq', 'fun': lambda x: x[0]+1e-18},  # alpha > 0\n",
        "          {'type': 'ineq', 'fun': lambda x: x[1]+1e-18},  # beta > 0\n",
        "          {'type': 'ineq', 'fun': lambda x: x[2]+1e-18}]  # gamma > 0\n",
        "\n",
        "# Bounds of the minimization\n",
        "bnds = ((0, None),(0, None),(0, 1))"
      ]
    },
    {
      "cell_type": "code",
      "execution_count": 54,
      "metadata": {
        "id": "BbBm9Ll8j8Od"
      },
      "outputs": [],
      "source": [
        "def test(params):\n",
        "  return neg_log_likelihood(params,l)"
      ]
    },
    {
      "cell_type": "code",
      "execution_count": 56,
      "metadata": {
        "colab": {
          "base_uri": "https://localhost:8080/"
        },
        "id": "e_eHpanKvMOz",
        "outputId": "84949fee-cbd8-4abc-8f56-493833c2a320"
      },
      "outputs": [
        {
          "name": "stdout",
          "output_type": "stream",
          "text": [
            "Looking for the best initialization params\n",
            "\n",
            "Test with initial conditions: alpha=0.4728, beta=0.1, gamma=0.5\n"
          ]
        },
        {
          "name": "stderr",
          "output_type": "stream",
          "text": [
            "/tmp/ipython-input-51-2109664919.py:24: RuntimeWarning: divide by zero encountered in scalar divide\n",
            "  ll += (1 - alpha) * t - (beta / gamma) * np.sum(1 - np.exp(-gamma * (t - time)))\n",
            "/tmp/ipython-input-51-2109664919.py:24: RuntimeWarning: invalid value encountered in scalar multiply\n",
            "  ll += (1 - alpha) * t - (beta / gamma) * np.sum(1 - np.exp(-gamma * (t - time)))\n",
            "/tmp/ipython-input-12-155223880.py:10: RuntimeWarning: divide by zero encountered in scalar divide\n",
            "  constr = [{'type': 'ineq', 'fun': lambda x: 1-x[1]/x[2] }, # beta/gamma < 1\n",
            "/tmp/ipython-input-51-2109664919.py:24: RuntimeWarning: divide by zero encountered in scalar divide\n",
            "  ll += (1 - alpha) * t - (beta / gamma) * np.sum(1 - np.exp(-gamma * (t - time)))\n",
            "/tmp/ipython-input-51-2109664919.py:24: RuntimeWarning: invalid value encountered in scalar multiply\n",
            "  ll += (1 - alpha) * t - (beta / gamma) * np.sum(1 - np.exp(-gamma * (t - time)))\n",
            "/tmp/ipython-input-12-155223880.py:10: RuntimeWarning: divide by zero encountered in scalar divide\n",
            "  constr = [{'type': 'ineq', 'fun': lambda x: 1-x[1]/x[2] }, # beta/gamma < 1\n",
            "/tmp/ipython-input-51-2109664919.py:24: RuntimeWarning: invalid value encountered in scalar divide\n",
            "  ll += (1 - alpha) * t - (beta / gamma) * np.sum(1 - np.exp(-gamma * (t - time)))\n",
            "/tmp/ipython-input-12-155223880.py:10: RuntimeWarning: invalid value encountered in scalar divide\n",
            "  constr = [{'type': 'ineq', 'fun': lambda x: 1-x[1]/x[2] }, # beta/gamma < 1\n",
            "/tmp/ipython-input-51-2109664919.py:24: RuntimeWarning: divide by zero encountered in scalar divide\n",
            "  ll += (1 - alpha) * t - (beta / gamma) * np.sum(1 - np.exp(-gamma * (t - time)))\n",
            "/tmp/ipython-input-51-2109664919.py:24: RuntimeWarning: invalid value encountered in scalar multiply\n",
            "  ll += (1 - alpha) * t - (beta / gamma) * np.sum(1 - np.exp(-gamma * (t - time)))\n",
            "/tmp/ipython-input-12-155223880.py:10: RuntimeWarning: divide by zero encountered in scalar divide\n",
            "  constr = [{'type': 'ineq', 'fun': lambda x: 1-x[1]/x[2] }, # beta/gamma < 1\n",
            "/tmp/ipython-input-51-2109664919.py:24: RuntimeWarning: invalid value encountered in scalar divide\n",
            "  ll += (1 - alpha) * t - (beta / gamma) * np.sum(1 - np.exp(-gamma * (t - time)))\n",
            "/tmp/ipython-input-12-155223880.py:10: RuntimeWarning: invalid value encountered in scalar divide\n",
            "  constr = [{'type': 'ineq', 'fun': lambda x: 1-x[1]/x[2] }, # beta/gamma < 1\n",
            "/tmp/ipython-input-51-2109664919.py:24: RuntimeWarning: invalid value encountered in scalar divide\n",
            "  ll += (1 - alpha) * t - (beta / gamma) * np.sum(1 - np.exp(-gamma * (t - time)))\n",
            "/tmp/ipython-input-12-155223880.py:10: RuntimeWarning: invalid value encountered in scalar divide\n",
            "  constr = [{'type': 'ineq', 'fun': lambda x: 1-x[1]/x[2] }, # beta/gamma < 1\n",
            "/tmp/ipython-input-51-2109664919.py:24: RuntimeWarning: divide by zero encountered in scalar divide\n",
            "  ll += (1 - alpha) * t - (beta / gamma) * np.sum(1 - np.exp(-gamma * (t - time)))\n",
            "/tmp/ipython-input-51-2109664919.py:24: RuntimeWarning: invalid value encountered in scalar multiply\n",
            "  ll += (1 - alpha) * t - (beta / gamma) * np.sum(1 - np.exp(-gamma * (t - time)))\n",
            "/tmp/ipython-input-12-155223880.py:10: RuntimeWarning: divide by zero encountered in scalar divide\n",
            "  constr = [{'type': 'ineq', 'fun': lambda x: 1-x[1]/x[2] }, # beta/gamma < 1\n"
          ]
        },
        {
          "name": "stdout",
          "output_type": "stream",
          "text": [
            "Success: True, Negative log-likelihood: -17960.6424, Found params: [0.00039668 0.05683516 0.05684843]\n",
            "\n",
            "Test with initial conditions: alpha=0.4728, beta=0.1, gamma=1.0\n"
          ]
        },
        {
          "name": "stderr",
          "output_type": "stream",
          "text": [
            "/tmp/ipython-input-51-2109664919.py:24: RuntimeWarning: divide by zero encountered in scalar divide\n",
            "  ll += (1 - alpha) * t - (beta / gamma) * np.sum(1 - np.exp(-gamma * (t - time)))\n",
            "/tmp/ipython-input-51-2109664919.py:24: RuntimeWarning: invalid value encountered in scalar multiply\n",
            "  ll += (1 - alpha) * t - (beta / gamma) * np.sum(1 - np.exp(-gamma * (t - time)))\n",
            "/tmp/ipython-input-12-155223880.py:10: RuntimeWarning: divide by zero encountered in scalar divide\n",
            "  constr = [{'type': 'ineq', 'fun': lambda x: 1-x[1]/x[2] }, # beta/gamma < 1\n",
            "/tmp/ipython-input-51-2109664919.py:24: RuntimeWarning: invalid value encountered in scalar divide\n",
            "  ll += (1 - alpha) * t - (beta / gamma) * np.sum(1 - np.exp(-gamma * (t - time)))\n",
            "/tmp/ipython-input-12-155223880.py:10: RuntimeWarning: invalid value encountered in scalar divide\n",
            "  constr = [{'type': 'ineq', 'fun': lambda x: 1-x[1]/x[2] }, # beta/gamma < 1\n",
            "/tmp/ipython-input-51-2109664919.py:24: RuntimeWarning: invalid value encountered in scalar divide\n",
            "  ll += (1 - alpha) * t - (beta / gamma) * np.sum(1 - np.exp(-gamma * (t - time)))\n",
            "/tmp/ipython-input-12-155223880.py:10: RuntimeWarning: invalid value encountered in scalar divide\n",
            "  constr = [{'type': 'ineq', 'fun': lambda x: 1-x[1]/x[2] }, # beta/gamma < 1\n",
            "/tmp/ipython-input-51-2109664919.py:24: RuntimeWarning: divide by zero encountered in scalar divide\n",
            "  ll += (1 - alpha) * t - (beta / gamma) * np.sum(1 - np.exp(-gamma * (t - time)))\n",
            "/tmp/ipython-input-51-2109664919.py:24: RuntimeWarning: invalid value encountered in scalar multiply\n",
            "  ll += (1 - alpha) * t - (beta / gamma) * np.sum(1 - np.exp(-gamma * (t - time)))\n",
            "/tmp/ipython-input-12-155223880.py:10: RuntimeWarning: divide by zero encountered in scalar divide\n",
            "  constr = [{'type': 'ineq', 'fun': lambda x: 1-x[1]/x[2] }, # beta/gamma < 1\n",
            "/tmp/ipython-input-51-2109664919.py:24: RuntimeWarning: divide by zero encountered in scalar divide\n",
            "  ll += (1 - alpha) * t - (beta / gamma) * np.sum(1 - np.exp(-gamma * (t - time)))\n",
            "/tmp/ipython-input-51-2109664919.py:24: RuntimeWarning: invalid value encountered in scalar multiply\n",
            "  ll += (1 - alpha) * t - (beta / gamma) * np.sum(1 - np.exp(-gamma * (t - time)))\n",
            "/tmp/ipython-input-12-155223880.py:10: RuntimeWarning: divide by zero encountered in scalar divide\n",
            "  constr = [{'type': 'ineq', 'fun': lambda x: 1-x[1]/x[2] }, # beta/gamma < 1\n",
            "/tmp/ipython-input-51-2109664919.py:24: RuntimeWarning: divide by zero encountered in scalar divide\n",
            "  ll += (1 - alpha) * t - (beta / gamma) * np.sum(1 - np.exp(-gamma * (t - time)))\n",
            "/tmp/ipython-input-51-2109664919.py:24: RuntimeWarning: invalid value encountered in scalar multiply\n",
            "  ll += (1 - alpha) * t - (beta / gamma) * np.sum(1 - np.exp(-gamma * (t - time)))\n",
            "/tmp/ipython-input-12-155223880.py:10: RuntimeWarning: divide by zero encountered in scalar divide\n",
            "  constr = [{'type': 'ineq', 'fun': lambda x: 1-x[1]/x[2] }, # beta/gamma < 1\n",
            "/tmp/ipython-input-51-2109664919.py:24: RuntimeWarning: divide by zero encountered in scalar divide\n",
            "  ll += (1 - alpha) * t - (beta / gamma) * np.sum(1 - np.exp(-gamma * (t - time)))\n",
            "/tmp/ipython-input-51-2109664919.py:24: RuntimeWarning: invalid value encountered in scalar multiply\n",
            "  ll += (1 - alpha) * t - (beta / gamma) * np.sum(1 - np.exp(-gamma * (t - time)))\n",
            "/tmp/ipython-input-12-155223880.py:10: RuntimeWarning: divide by zero encountered in scalar divide\n",
            "  constr = [{'type': 'ineq', 'fun': lambda x: 1-x[1]/x[2] }, # beta/gamma < 1\n",
            "/tmp/ipython-input-51-2109664919.py:24: RuntimeWarning: invalid value encountered in scalar divide\n",
            "  ll += (1 - alpha) * t - (beta / gamma) * np.sum(1 - np.exp(-gamma * (t - time)))\n",
            "/tmp/ipython-input-12-155223880.py:10: RuntimeWarning: invalid value encountered in scalar divide\n",
            "  constr = [{'type': 'ineq', 'fun': lambda x: 1-x[1]/x[2] }, # beta/gamma < 1\n"
          ]
        },
        {
          "name": "stdout",
          "output_type": "stream",
          "text": [
            "Success: True, Negative log-likelihood: -17425.8760, Found params: [0.06461642 0.09636676 0.13653663]\n",
            "\n",
            "Test with initial conditions: alpha=0.4728, beta=0.1, gamma=2.0\n"
          ]
        },
        {
          "name": "stderr",
          "output_type": "stream",
          "text": [
            "/tmp/ipython-input-51-2109664919.py:24: RuntimeWarning: divide by zero encountered in scalar divide\n",
            "  ll += (1 - alpha) * t - (beta / gamma) * np.sum(1 - np.exp(-gamma * (t - time)))\n",
            "/tmp/ipython-input-51-2109664919.py:24: RuntimeWarning: invalid value encountered in scalar multiply\n",
            "  ll += (1 - alpha) * t - (beta / gamma) * np.sum(1 - np.exp(-gamma * (t - time)))\n",
            "/tmp/ipython-input-12-155223880.py:10: RuntimeWarning: divide by zero encountered in scalar divide\n",
            "  constr = [{'type': 'ineq', 'fun': lambda x: 1-x[1]/x[2] }, # beta/gamma < 1\n",
            "/tmp/ipython-input-51-2109664919.py:24: RuntimeWarning: divide by zero encountered in scalar divide\n",
            "  ll += (1 - alpha) * t - (beta / gamma) * np.sum(1 - np.exp(-gamma * (t - time)))\n",
            "/tmp/ipython-input-51-2109664919.py:24: RuntimeWarning: invalid value encountered in scalar multiply\n",
            "  ll += (1 - alpha) * t - (beta / gamma) * np.sum(1 - np.exp(-gamma * (t - time)))\n",
            "/tmp/ipython-input-12-155223880.py:10: RuntimeWarning: divide by zero encountered in scalar divide\n",
            "  constr = [{'type': 'ineq', 'fun': lambda x: 1-x[1]/x[2] }, # beta/gamma < 1\n",
            "/tmp/ipython-input-51-2109664919.py:24: RuntimeWarning: divide by zero encountered in scalar divide\n",
            "  ll += (1 - alpha) * t - (beta / gamma) * np.sum(1 - np.exp(-gamma * (t - time)))\n",
            "/tmp/ipython-input-51-2109664919.py:24: RuntimeWarning: invalid value encountered in scalar multiply\n",
            "  ll += (1 - alpha) * t - (beta / gamma) * np.sum(1 - np.exp(-gamma * (t - time)))\n",
            "/tmp/ipython-input-12-155223880.py:10: RuntimeWarning: divide by zero encountered in scalar divide\n",
            "  constr = [{'type': 'ineq', 'fun': lambda x: 1-x[1]/x[2] }, # beta/gamma < 1\n"
          ]
        },
        {
          "name": "stdout",
          "output_type": "stream",
          "text": [
            "Success: True, Negative log-likelihood: -17960.6424, Found params: [0.00039692 0.05683306 0.05684669]\n",
            "\n",
            "Test with initial conditions: alpha=0.4728, beta=0.1, gamma=5.0\n"
          ]
        },
        {
          "name": "stderr",
          "output_type": "stream",
          "text": [
            "/tmp/ipython-input-51-2109664919.py:24: RuntimeWarning: divide by zero encountered in scalar divide\n",
            "  ll += (1 - alpha) * t - (beta / gamma) * np.sum(1 - np.exp(-gamma * (t - time)))\n",
            "/tmp/ipython-input-51-2109664919.py:24: RuntimeWarning: invalid value encountered in scalar multiply\n",
            "  ll += (1 - alpha) * t - (beta / gamma) * np.sum(1 - np.exp(-gamma * (t - time)))\n",
            "/tmp/ipython-input-12-155223880.py:10: RuntimeWarning: divide by zero encountered in scalar divide\n",
            "  constr = [{'type': 'ineq', 'fun': lambda x: 1-x[1]/x[2] }, # beta/gamma < 1\n",
            "/tmp/ipython-input-51-2109664919.py:24: RuntimeWarning: divide by zero encountered in scalar divide\n",
            "  ll += (1 - alpha) * t - (beta / gamma) * np.sum(1 - np.exp(-gamma * (t - time)))\n",
            "/tmp/ipython-input-51-2109664919.py:24: RuntimeWarning: invalid value encountered in scalar multiply\n",
            "  ll += (1 - alpha) * t - (beta / gamma) * np.sum(1 - np.exp(-gamma * (t - time)))\n",
            "/tmp/ipython-input-12-155223880.py:10: RuntimeWarning: divide by zero encountered in scalar divide\n",
            "  constr = [{'type': 'ineq', 'fun': lambda x: 1-x[1]/x[2] }, # beta/gamma < 1\n",
            "/tmp/ipython-input-51-2109664919.py:24: RuntimeWarning: divide by zero encountered in scalar divide\n",
            "  ll += (1 - alpha) * t - (beta / gamma) * np.sum(1 - np.exp(-gamma * (t - time)))\n",
            "/tmp/ipython-input-51-2109664919.py:24: RuntimeWarning: invalid value encountered in scalar multiply\n",
            "  ll += (1 - alpha) * t - (beta / gamma) * np.sum(1 - np.exp(-gamma * (t - time)))\n",
            "/tmp/ipython-input-12-155223880.py:10: RuntimeWarning: divide by zero encountered in scalar divide\n",
            "  constr = [{'type': 'ineq', 'fun': lambda x: 1-x[1]/x[2] }, # beta/gamma < 1\n",
            "/tmp/ipython-input-51-2109664919.py:24: RuntimeWarning: divide by zero encountered in scalar divide\n",
            "  ll += (1 - alpha) * t - (beta / gamma) * np.sum(1 - np.exp(-gamma * (t - time)))\n",
            "/tmp/ipython-input-51-2109664919.py:24: RuntimeWarning: invalid value encountered in scalar multiply\n",
            "  ll += (1 - alpha) * t - (beta / gamma) * np.sum(1 - np.exp(-gamma * (t - time)))\n",
            "/tmp/ipython-input-12-155223880.py:10: RuntimeWarning: divide by zero encountered in scalar divide\n",
            "  constr = [{'type': 'ineq', 'fun': lambda x: 1-x[1]/x[2] }, # beta/gamma < 1\n",
            "/tmp/ipython-input-51-2109664919.py:24: RuntimeWarning: divide by zero encountered in scalar divide\n",
            "  ll += (1 - alpha) * t - (beta / gamma) * np.sum(1 - np.exp(-gamma * (t - time)))\n",
            "/tmp/ipython-input-51-2109664919.py:24: RuntimeWarning: invalid value encountered in scalar multiply\n",
            "  ll += (1 - alpha) * t - (beta / gamma) * np.sum(1 - np.exp(-gamma * (t - time)))\n",
            "/tmp/ipython-input-12-155223880.py:10: RuntimeWarning: divide by zero encountered in scalar divide\n",
            "  constr = [{'type': 'ineq', 'fun': lambda x: 1-x[1]/x[2] }, # beta/gamma < 1\n",
            "/tmp/ipython-input-51-2109664919.py:24: RuntimeWarning: divide by zero encountered in scalar divide\n",
            "  ll += (1 - alpha) * t - (beta / gamma) * np.sum(1 - np.exp(-gamma * (t - time)))\n",
            "/tmp/ipython-input-51-2109664919.py:24: RuntimeWarning: invalid value encountered in scalar multiply\n",
            "  ll += (1 - alpha) * t - (beta / gamma) * np.sum(1 - np.exp(-gamma * (t - time)))\n",
            "/tmp/ipython-input-12-155223880.py:10: RuntimeWarning: divide by zero encountered in scalar divide\n",
            "  constr = [{'type': 'ineq', 'fun': lambda x: 1-x[1]/x[2] }, # beta/gamma < 1\n",
            "/tmp/ipython-input-51-2109664919.py:24: RuntimeWarning: divide by zero encountered in scalar divide\n",
            "  ll += (1 - alpha) * t - (beta / gamma) * np.sum(1 - np.exp(-gamma * (t - time)))\n",
            "/tmp/ipython-input-51-2109664919.py:24: RuntimeWarning: invalid value encountered in scalar multiply\n",
            "  ll += (1 - alpha) * t - (beta / gamma) * np.sum(1 - np.exp(-gamma * (t - time)))\n",
            "/tmp/ipython-input-12-155223880.py:10: RuntimeWarning: divide by zero encountered in scalar divide\n",
            "  constr = [{'type': 'ineq', 'fun': lambda x: 1-x[1]/x[2] }, # beta/gamma < 1\n",
            "/tmp/ipython-input-51-2109664919.py:24: RuntimeWarning: divide by zero encountered in scalar divide\n",
            "  ll += (1 - alpha) * t - (beta / gamma) * np.sum(1 - np.exp(-gamma * (t - time)))\n",
            "/tmp/ipython-input-51-2109664919.py:24: RuntimeWarning: invalid value encountered in scalar multiply\n",
            "  ll += (1 - alpha) * t - (beta / gamma) * np.sum(1 - np.exp(-gamma * (t - time)))\n",
            "/tmp/ipython-input-12-155223880.py:10: RuntimeWarning: divide by zero encountered in scalar divide\n",
            "  constr = [{'type': 'ineq', 'fun': lambda x: 1-x[1]/x[2] }, # beta/gamma < 1\n",
            "/tmp/ipython-input-51-2109664919.py:24: RuntimeWarning: divide by zero encountered in scalar divide\n",
            "  ll += (1 - alpha) * t - (beta / gamma) * np.sum(1 - np.exp(-gamma * (t - time)))\n",
            "/tmp/ipython-input-51-2109664919.py:24: RuntimeWarning: invalid value encountered in scalar multiply\n",
            "  ll += (1 - alpha) * t - (beta / gamma) * np.sum(1 - np.exp(-gamma * (t - time)))\n",
            "/tmp/ipython-input-12-155223880.py:10: RuntimeWarning: divide by zero encountered in scalar divide\n",
            "  constr = [{'type': 'ineq', 'fun': lambda x: 1-x[1]/x[2] }, # beta/gamma < 1\n",
            "/tmp/ipython-input-51-2109664919.py:24: RuntimeWarning: divide by zero encountered in scalar divide\n",
            "  ll += (1 - alpha) * t - (beta / gamma) * np.sum(1 - np.exp(-gamma * (t - time)))\n",
            "/tmp/ipython-input-51-2109664919.py:24: RuntimeWarning: invalid value encountered in scalar multiply\n",
            "  ll += (1 - alpha) * t - (beta / gamma) * np.sum(1 - np.exp(-gamma * (t - time)))\n",
            "/tmp/ipython-input-12-155223880.py:10: RuntimeWarning: divide by zero encountered in scalar divide\n",
            "  constr = [{'type': 'ineq', 'fun': lambda x: 1-x[1]/x[2] }, # beta/gamma < 1\n",
            "/tmp/ipython-input-51-2109664919.py:24: RuntimeWarning: divide by zero encountered in scalar divide\n",
            "  ll += (1 - alpha) * t - (beta / gamma) * np.sum(1 - np.exp(-gamma * (t - time)))\n",
            "/tmp/ipython-input-51-2109664919.py:24: RuntimeWarning: invalid value encountered in scalar multiply\n",
            "  ll += (1 - alpha) * t - (beta / gamma) * np.sum(1 - np.exp(-gamma * (t - time)))\n",
            "/tmp/ipython-input-12-155223880.py:10: RuntimeWarning: divide by zero encountered in scalar divide\n",
            "  constr = [{'type': 'ineq', 'fun': lambda x: 1-x[1]/x[2] }, # beta/gamma < 1\n",
            "/tmp/ipython-input-51-2109664919.py:24: RuntimeWarning: divide by zero encountered in scalar divide\n",
            "  ll += (1 - alpha) * t - (beta / gamma) * np.sum(1 - np.exp(-gamma * (t - time)))\n",
            "/tmp/ipython-input-51-2109664919.py:24: RuntimeWarning: invalid value encountered in scalar multiply\n",
            "  ll += (1 - alpha) * t - (beta / gamma) * np.sum(1 - np.exp(-gamma * (t - time)))\n",
            "/tmp/ipython-input-12-155223880.py:10: RuntimeWarning: divide by zero encountered in scalar divide\n",
            "  constr = [{'type': 'ineq', 'fun': lambda x: 1-x[1]/x[2] }, # beta/gamma < 1\n",
            "/tmp/ipython-input-51-2109664919.py:24: RuntimeWarning: divide by zero encountered in scalar divide\n",
            "  ll += (1 - alpha) * t - (beta / gamma) * np.sum(1 - np.exp(-gamma * (t - time)))\n",
            "/tmp/ipython-input-51-2109664919.py:24: RuntimeWarning: invalid value encountered in scalar multiply\n",
            "  ll += (1 - alpha) * t - (beta / gamma) * np.sum(1 - np.exp(-gamma * (t - time)))\n",
            "/tmp/ipython-input-12-155223880.py:10: RuntimeWarning: divide by zero encountered in scalar divide\n",
            "  constr = [{'type': 'ineq', 'fun': lambda x: 1-x[1]/x[2] }, # beta/gamma < 1\n",
            "/tmp/ipython-input-51-2109664919.py:24: RuntimeWarning: divide by zero encountered in scalar divide\n",
            "  ll += (1 - alpha) * t - (beta / gamma) * np.sum(1 - np.exp(-gamma * (t - time)))\n",
            "/tmp/ipython-input-51-2109664919.py:24: RuntimeWarning: invalid value encountered in scalar multiply\n",
            "  ll += (1 - alpha) * t - (beta / gamma) * np.sum(1 - np.exp(-gamma * (t - time)))\n",
            "/tmp/ipython-input-12-155223880.py:10: RuntimeWarning: divide by zero encountered in scalar divide\n",
            "  constr = [{'type': 'ineq', 'fun': lambda x: 1-x[1]/x[2] }, # beta/gamma < 1\n",
            "/tmp/ipython-input-51-2109664919.py:24: RuntimeWarning: divide by zero encountered in scalar divide\n",
            "  ll += (1 - alpha) * t - (beta / gamma) * np.sum(1 - np.exp(-gamma * (t - time)))\n",
            "/tmp/ipython-input-51-2109664919.py:24: RuntimeWarning: invalid value encountered in scalar multiply\n",
            "  ll += (1 - alpha) * t - (beta / gamma) * np.sum(1 - np.exp(-gamma * (t - time)))\n",
            "/tmp/ipython-input-12-155223880.py:10: RuntimeWarning: divide by zero encountered in scalar divide\n",
            "  constr = [{'type': 'ineq', 'fun': lambda x: 1-x[1]/x[2] }, # beta/gamma < 1\n"
          ]
        },
        {
          "name": "stdout",
          "output_type": "stream",
          "text": [
            "Success: True, Negative log-likelihood: -17960.6424, Found params: [0.00039672 0.05683518 0.05684844]\n",
            "\n",
            "Test with initial conditions: alpha=0.4728, beta=0.5, gamma=0.5\n"
          ]
        },
        {
          "name": "stderr",
          "output_type": "stream",
          "text": [
            "/tmp/ipython-input-51-2109664919.py:24: RuntimeWarning: divide by zero encountered in scalar divide\n",
            "  ll += (1 - alpha) * t - (beta / gamma) * np.sum(1 - np.exp(-gamma * (t - time)))\n",
            "/tmp/ipython-input-51-2109664919.py:24: RuntimeWarning: invalid value encountered in scalar multiply\n",
            "  ll += (1 - alpha) * t - (beta / gamma) * np.sum(1 - np.exp(-gamma * (t - time)))\n",
            "/tmp/ipython-input-12-155223880.py:10: RuntimeWarning: divide by zero encountered in scalar divide\n",
            "  constr = [{'type': 'ineq', 'fun': lambda x: 1-x[1]/x[2] }, # beta/gamma < 1\n",
            "/tmp/ipython-input-51-2109664919.py:24: RuntimeWarning: divide by zero encountered in scalar divide\n",
            "  ll += (1 - alpha) * t - (beta / gamma) * np.sum(1 - np.exp(-gamma * (t - time)))\n",
            "/tmp/ipython-input-51-2109664919.py:24: RuntimeWarning: invalid value encountered in scalar multiply\n",
            "  ll += (1 - alpha) * t - (beta / gamma) * np.sum(1 - np.exp(-gamma * (t - time)))\n",
            "/tmp/ipython-input-12-155223880.py:10: RuntimeWarning: divide by zero encountered in scalar divide\n",
            "  constr = [{'type': 'ineq', 'fun': lambda x: 1-x[1]/x[2] }, # beta/gamma < 1\n"
          ]
        },
        {
          "name": "stdout",
          "output_type": "stream",
          "text": [
            "Success: True, Negative log-likelihood: 621.9167, Found params: [4.69486780e-01 2.35717856e+06 3.84134670e+06]\n",
            "\n",
            "Test with initial conditions: alpha=0.4728, beta=0.5, gamma=1.0\n"
          ]
        },
        {
          "name": "stderr",
          "output_type": "stream",
          "text": [
            "/tmp/ipython-input-51-2109664919.py:24: RuntimeWarning: divide by zero encountered in scalar divide\n",
            "  ll += (1 - alpha) * t - (beta / gamma) * np.sum(1 - np.exp(-gamma * (t - time)))\n",
            "/tmp/ipython-input-51-2109664919.py:24: RuntimeWarning: invalid value encountered in scalar multiply\n",
            "  ll += (1 - alpha) * t - (beta / gamma) * np.sum(1 - np.exp(-gamma * (t - time)))\n",
            "/tmp/ipython-input-12-155223880.py:10: RuntimeWarning: divide by zero encountered in scalar divide\n",
            "  constr = [{'type': 'ineq', 'fun': lambda x: 1-x[1]/x[2] }, # beta/gamma < 1\n",
            "/tmp/ipython-input-51-2109664919.py:24: RuntimeWarning: divide by zero encountered in scalar divide\n",
            "  ll += (1 - alpha) * t - (beta / gamma) * np.sum(1 - np.exp(-gamma * (t - time)))\n",
            "/tmp/ipython-input-51-2109664919.py:24: RuntimeWarning: invalid value encountered in scalar multiply\n",
            "  ll += (1 - alpha) * t - (beta / gamma) * np.sum(1 - np.exp(-gamma * (t - time)))\n",
            "/tmp/ipython-input-12-155223880.py:10: RuntimeWarning: divide by zero encountered in scalar divide\n",
            "  constr = [{'type': 'ineq', 'fun': lambda x: 1-x[1]/x[2] }, # beta/gamma < 1\n"
          ]
        },
        {
          "name": "stdout",
          "output_type": "stream",
          "text": [
            "Success: True, Negative log-likelihood: -17960.6424, Found params: [0.00039693 0.05683535 0.05684865]\n",
            "\n",
            "Test with initial conditions: alpha=0.4728, beta=0.5, gamma=2.0\n"
          ]
        },
        {
          "name": "stderr",
          "output_type": "stream",
          "text": [
            "/tmp/ipython-input-51-2109664919.py:24: RuntimeWarning: divide by zero encountered in scalar divide\n",
            "  ll += (1 - alpha) * t - (beta / gamma) * np.sum(1 - np.exp(-gamma * (t - time)))\n",
            "/tmp/ipython-input-51-2109664919.py:24: RuntimeWarning: invalid value encountered in scalar multiply\n",
            "  ll += (1 - alpha) * t - (beta / gamma) * np.sum(1 - np.exp(-gamma * (t - time)))\n",
            "/tmp/ipython-input-12-155223880.py:10: RuntimeWarning: divide by zero encountered in scalar divide\n",
            "  constr = [{'type': 'ineq', 'fun': lambda x: 1-x[1]/x[2] }, # beta/gamma < 1\n",
            "/tmp/ipython-input-51-2109664919.py:24: RuntimeWarning: divide by zero encountered in scalar divide\n",
            "  ll += (1 - alpha) * t - (beta / gamma) * np.sum(1 - np.exp(-gamma * (t - time)))\n",
            "/tmp/ipython-input-51-2109664919.py:24: RuntimeWarning: invalid value encountered in scalar multiply\n",
            "  ll += (1 - alpha) * t - (beta / gamma) * np.sum(1 - np.exp(-gamma * (t - time)))\n",
            "/tmp/ipython-input-12-155223880.py:10: RuntimeWarning: divide by zero encountered in scalar divide\n",
            "  constr = [{'type': 'ineq', 'fun': lambda x: 1-x[1]/x[2] }, # beta/gamma < 1\n",
            "/tmp/ipython-input-51-2109664919.py:24: RuntimeWarning: invalid value encountered in scalar divide\n",
            "  ll += (1 - alpha) * t - (beta / gamma) * np.sum(1 - np.exp(-gamma * (t - time)))\n",
            "/tmp/ipython-input-12-155223880.py:10: RuntimeWarning: invalid value encountered in scalar divide\n",
            "  constr = [{'type': 'ineq', 'fun': lambda x: 1-x[1]/x[2] }, # beta/gamma < 1\n",
            "/tmp/ipython-input-51-2109664919.py:24: RuntimeWarning: divide by zero encountered in scalar divide\n",
            "  ll += (1 - alpha) * t - (beta / gamma) * np.sum(1 - np.exp(-gamma * (t - time)))\n",
            "/tmp/ipython-input-51-2109664919.py:24: RuntimeWarning: invalid value encountered in scalar multiply\n",
            "  ll += (1 - alpha) * t - (beta / gamma) * np.sum(1 - np.exp(-gamma * (t - time)))\n",
            "/tmp/ipython-input-12-155223880.py:10: RuntimeWarning: divide by zero encountered in scalar divide\n",
            "  constr = [{'type': 'ineq', 'fun': lambda x: 1-x[1]/x[2] }, # beta/gamma < 1\n",
            "/tmp/ipython-input-51-2109664919.py:24: RuntimeWarning: invalid value encountered in scalar divide\n",
            "  ll += (1 - alpha) * t - (beta / gamma) * np.sum(1 - np.exp(-gamma * (t - time)))\n",
            "/tmp/ipython-input-12-155223880.py:10: RuntimeWarning: invalid value encountered in scalar divide\n",
            "  constr = [{'type': 'ineq', 'fun': lambda x: 1-x[1]/x[2] }, # beta/gamma < 1\n",
            "/tmp/ipython-input-51-2109664919.py:24: RuntimeWarning: divide by zero encountered in scalar divide\n",
            "  ll += (1 - alpha) * t - (beta / gamma) * np.sum(1 - np.exp(-gamma * (t - time)))\n",
            "/tmp/ipython-input-51-2109664919.py:24: RuntimeWarning: invalid value encountered in scalar multiply\n",
            "  ll += (1 - alpha) * t - (beta / gamma) * np.sum(1 - np.exp(-gamma * (t - time)))\n",
            "/tmp/ipython-input-12-155223880.py:10: RuntimeWarning: divide by zero encountered in scalar divide\n",
            "  constr = [{'type': 'ineq', 'fun': lambda x: 1-x[1]/x[2] }, # beta/gamma < 1\n",
            "/tmp/ipython-input-51-2109664919.py:24: RuntimeWarning: divide by zero encountered in scalar divide\n",
            "  ll += (1 - alpha) * t - (beta / gamma) * np.sum(1 - np.exp(-gamma * (t - time)))\n",
            "/tmp/ipython-input-51-2109664919.py:24: RuntimeWarning: invalid value encountered in scalar multiply\n",
            "  ll += (1 - alpha) * t - (beta / gamma) * np.sum(1 - np.exp(-gamma * (t - time)))\n",
            "/tmp/ipython-input-12-155223880.py:10: RuntimeWarning: divide by zero encountered in scalar divide\n",
            "  constr = [{'type': 'ineq', 'fun': lambda x: 1-x[1]/x[2] }, # beta/gamma < 1\n",
            "/tmp/ipython-input-51-2109664919.py:24: RuntimeWarning: divide by zero encountered in scalar divide\n",
            "  ll += (1 - alpha) * t - (beta / gamma) * np.sum(1 - np.exp(-gamma * (t - time)))\n",
            "/tmp/ipython-input-51-2109664919.py:24: RuntimeWarning: invalid value encountered in scalar multiply\n",
            "  ll += (1 - alpha) * t - (beta / gamma) * np.sum(1 - np.exp(-gamma * (t - time)))\n",
            "/tmp/ipython-input-12-155223880.py:10: RuntimeWarning: divide by zero encountered in scalar divide\n",
            "  constr = [{'type': 'ineq', 'fun': lambda x: 1-x[1]/x[2] }, # beta/gamma < 1\n",
            "/tmp/ipython-input-51-2109664919.py:24: RuntimeWarning: divide by zero encountered in scalar divide\n",
            "  ll += (1 - alpha) * t - (beta / gamma) * np.sum(1 - np.exp(-gamma * (t - time)))\n",
            "/tmp/ipython-input-51-2109664919.py:24: RuntimeWarning: invalid value encountered in scalar multiply\n",
            "  ll += (1 - alpha) * t - (beta / gamma) * np.sum(1 - np.exp(-gamma * (t - time)))\n",
            "/tmp/ipython-input-12-155223880.py:10: RuntimeWarning: divide by zero encountered in scalar divide\n",
            "  constr = [{'type': 'ineq', 'fun': lambda x: 1-x[1]/x[2] }, # beta/gamma < 1\n",
            "/tmp/ipython-input-51-2109664919.py:24: RuntimeWarning: divide by zero encountered in scalar divide\n",
            "  ll += (1 - alpha) * t - (beta / gamma) * np.sum(1 - np.exp(-gamma * (t - time)))\n",
            "/tmp/ipython-input-51-2109664919.py:24: RuntimeWarning: invalid value encountered in scalar multiply\n",
            "  ll += (1 - alpha) * t - (beta / gamma) * np.sum(1 - np.exp(-gamma * (t - time)))\n",
            "/tmp/ipython-input-12-155223880.py:10: RuntimeWarning: divide by zero encountered in scalar divide\n",
            "  constr = [{'type': 'ineq', 'fun': lambda x: 1-x[1]/x[2] }, # beta/gamma < 1\n",
            "/tmp/ipython-input-51-2109664919.py:24: RuntimeWarning: divide by zero encountered in scalar divide\n",
            "  ll += (1 - alpha) * t - (beta / gamma) * np.sum(1 - np.exp(-gamma * (t - time)))\n",
            "/tmp/ipython-input-51-2109664919.py:24: RuntimeWarning: invalid value encountered in scalar multiply\n",
            "  ll += (1 - alpha) * t - (beta / gamma) * np.sum(1 - np.exp(-gamma * (t - time)))\n",
            "/tmp/ipython-input-12-155223880.py:10: RuntimeWarning: divide by zero encountered in scalar divide\n",
            "  constr = [{'type': 'ineq', 'fun': lambda x: 1-x[1]/x[2] }, # beta/gamma < 1\n",
            "/tmp/ipython-input-51-2109664919.py:24: RuntimeWarning: divide by zero encountered in scalar divide\n",
            "  ll += (1 - alpha) * t - (beta / gamma) * np.sum(1 - np.exp(-gamma * (t - time)))\n",
            "/tmp/ipython-input-51-2109664919.py:24: RuntimeWarning: invalid value encountered in scalar multiply\n",
            "  ll += (1 - alpha) * t - (beta / gamma) * np.sum(1 - np.exp(-gamma * (t - time)))\n",
            "/tmp/ipython-input-12-155223880.py:10: RuntimeWarning: divide by zero encountered in scalar divide\n",
            "  constr = [{'type': 'ineq', 'fun': lambda x: 1-x[1]/x[2] }, # beta/gamma < 1\n",
            "/tmp/ipython-input-51-2109664919.py:24: RuntimeWarning: divide by zero encountered in scalar divide\n",
            "  ll += (1 - alpha) * t - (beta / gamma) * np.sum(1 - np.exp(-gamma * (t - time)))\n",
            "/tmp/ipython-input-51-2109664919.py:24: RuntimeWarning: invalid value encountered in scalar multiply\n",
            "  ll += (1 - alpha) * t - (beta / gamma) * np.sum(1 - np.exp(-gamma * (t - time)))\n",
            "/tmp/ipython-input-12-155223880.py:10: RuntimeWarning: divide by zero encountered in scalar divide\n",
            "  constr = [{'type': 'ineq', 'fun': lambda x: 1-x[1]/x[2] }, # beta/gamma < 1\n",
            "/tmp/ipython-input-51-2109664919.py:24: RuntimeWarning: divide by zero encountered in scalar divide\n",
            "  ll += (1 - alpha) * t - (beta / gamma) * np.sum(1 - np.exp(-gamma * (t - time)))\n",
            "/tmp/ipython-input-51-2109664919.py:24: RuntimeWarning: invalid value encountered in scalar multiply\n",
            "  ll += (1 - alpha) * t - (beta / gamma) * np.sum(1 - np.exp(-gamma * (t - time)))\n",
            "/tmp/ipython-input-12-155223880.py:10: RuntimeWarning: divide by zero encountered in scalar divide\n",
            "  constr = [{'type': 'ineq', 'fun': lambda x: 1-x[1]/x[2] }, # beta/gamma < 1\n",
            "/tmp/ipython-input-51-2109664919.py:24: RuntimeWarning: divide by zero encountered in scalar divide\n",
            "  ll += (1 - alpha) * t - (beta / gamma) * np.sum(1 - np.exp(-gamma * (t - time)))\n",
            "/tmp/ipython-input-51-2109664919.py:24: RuntimeWarning: invalid value encountered in scalar multiply\n",
            "  ll += (1 - alpha) * t - (beta / gamma) * np.sum(1 - np.exp(-gamma * (t - time)))\n",
            "/tmp/ipython-input-12-155223880.py:10: RuntimeWarning: divide by zero encountered in scalar divide\n",
            "  constr = [{'type': 'ineq', 'fun': lambda x: 1-x[1]/x[2] }, # beta/gamma < 1\n",
            "/tmp/ipython-input-51-2109664919.py:24: RuntimeWarning: divide by zero encountered in scalar divide\n",
            "  ll += (1 - alpha) * t - (beta / gamma) * np.sum(1 - np.exp(-gamma * (t - time)))\n",
            "/tmp/ipython-input-51-2109664919.py:24: RuntimeWarning: invalid value encountered in scalar multiply\n",
            "  ll += (1 - alpha) * t - (beta / gamma) * np.sum(1 - np.exp(-gamma * (t - time)))\n",
            "/tmp/ipython-input-12-155223880.py:10: RuntimeWarning: divide by zero encountered in scalar divide\n",
            "  constr = [{'type': 'ineq', 'fun': lambda x: 1-x[1]/x[2] }, # beta/gamma < 1\n",
            "/tmp/ipython-input-51-2109664919.py:24: RuntimeWarning: invalid value encountered in scalar divide\n",
            "  ll += (1 - alpha) * t - (beta / gamma) * np.sum(1 - np.exp(-gamma * (t - time)))\n",
            "/tmp/ipython-input-12-155223880.py:10: RuntimeWarning: invalid value encountered in scalar divide\n",
            "  constr = [{'type': 'ineq', 'fun': lambda x: 1-x[1]/x[2] }, # beta/gamma < 1\n"
          ]
        },
        {
          "name": "stdout",
          "output_type": "stream",
          "text": [
            "Success: True, Negative log-likelihood: -931.2264, Found params: [4.72036076e-01 2.09012578e-10 3.93756511e+01]\n",
            "\n",
            "Test with initial conditions: alpha=0.4728, beta=0.5, gamma=5.0\n"
          ]
        },
        {
          "name": "stderr",
          "output_type": "stream",
          "text": [
            "/tmp/ipython-input-51-2109664919.py:24: RuntimeWarning: divide by zero encountered in scalar divide\n",
            "  ll += (1 - alpha) * t - (beta / gamma) * np.sum(1 - np.exp(-gamma * (t - time)))\n",
            "/tmp/ipython-input-51-2109664919.py:24: RuntimeWarning: invalid value encountered in scalar multiply\n",
            "  ll += (1 - alpha) * t - (beta / gamma) * np.sum(1 - np.exp(-gamma * (t - time)))\n",
            "/tmp/ipython-input-12-155223880.py:10: RuntimeWarning: divide by zero encountered in scalar divide\n",
            "  constr = [{'type': 'ineq', 'fun': lambda x: 1-x[1]/x[2] }, # beta/gamma < 1\n",
            "/tmp/ipython-input-51-2109664919.py:24: RuntimeWarning: divide by zero encountered in scalar divide\n",
            "  ll += (1 - alpha) * t - (beta / gamma) * np.sum(1 - np.exp(-gamma * (t - time)))\n",
            "/tmp/ipython-input-51-2109664919.py:24: RuntimeWarning: invalid value encountered in scalar multiply\n",
            "  ll += (1 - alpha) * t - (beta / gamma) * np.sum(1 - np.exp(-gamma * (t - time)))\n",
            "/tmp/ipython-input-12-155223880.py:10: RuntimeWarning: divide by zero encountered in scalar divide\n",
            "  constr = [{'type': 'ineq', 'fun': lambda x: 1-x[1]/x[2] }, # beta/gamma < 1\n",
            "/tmp/ipython-input-51-2109664919.py:24: RuntimeWarning: divide by zero encountered in scalar divide\n",
            "  ll += (1 - alpha) * t - (beta / gamma) * np.sum(1 - np.exp(-gamma * (t - time)))\n",
            "/tmp/ipython-input-51-2109664919.py:24: RuntimeWarning: invalid value encountered in scalar multiply\n",
            "  ll += (1 - alpha) * t - (beta / gamma) * np.sum(1 - np.exp(-gamma * (t - time)))\n",
            "/tmp/ipython-input-12-155223880.py:10: RuntimeWarning: divide by zero encountered in scalar divide\n",
            "  constr = [{'type': 'ineq', 'fun': lambda x: 1-x[1]/x[2] }, # beta/gamma < 1\n",
            "/tmp/ipython-input-51-2109664919.py:24: RuntimeWarning: divide by zero encountered in scalar divide\n",
            "  ll += (1 - alpha) * t - (beta / gamma) * np.sum(1 - np.exp(-gamma * (t - time)))\n",
            "/tmp/ipython-input-51-2109664919.py:24: RuntimeWarning: invalid value encountered in scalar multiply\n",
            "  ll += (1 - alpha) * t - (beta / gamma) * np.sum(1 - np.exp(-gamma * (t - time)))\n",
            "/tmp/ipython-input-12-155223880.py:10: RuntimeWarning: divide by zero encountered in scalar divide\n",
            "  constr = [{'type': 'ineq', 'fun': lambda x: 1-x[1]/x[2] }, # beta/gamma < 1\n",
            "/tmp/ipython-input-51-2109664919.py:24: RuntimeWarning: divide by zero encountered in scalar divide\n",
            "  ll += (1 - alpha) * t - (beta / gamma) * np.sum(1 - np.exp(-gamma * (t - time)))\n",
            "/tmp/ipython-input-51-2109664919.py:24: RuntimeWarning: invalid value encountered in scalar multiply\n",
            "  ll += (1 - alpha) * t - (beta / gamma) * np.sum(1 - np.exp(-gamma * (t - time)))\n",
            "/tmp/ipython-input-12-155223880.py:10: RuntimeWarning: divide by zero encountered in scalar divide\n",
            "  constr = [{'type': 'ineq', 'fun': lambda x: 1-x[1]/x[2] }, # beta/gamma < 1\n",
            "/tmp/ipython-input-51-2109664919.py:24: RuntimeWarning: divide by zero encountered in scalar divide\n",
            "  ll += (1 - alpha) * t - (beta / gamma) * np.sum(1 - np.exp(-gamma * (t - time)))\n",
            "/tmp/ipython-input-51-2109664919.py:24: RuntimeWarning: invalid value encountered in scalar multiply\n",
            "  ll += (1 - alpha) * t - (beta / gamma) * np.sum(1 - np.exp(-gamma * (t - time)))\n",
            "/tmp/ipython-input-12-155223880.py:10: RuntimeWarning: divide by zero encountered in scalar divide\n",
            "  constr = [{'type': 'ineq', 'fun': lambda x: 1-x[1]/x[2] }, # beta/gamma < 1\n",
            "/tmp/ipython-input-51-2109664919.py:24: RuntimeWarning: divide by zero encountered in scalar divide\n",
            "  ll += (1 - alpha) * t - (beta / gamma) * np.sum(1 - np.exp(-gamma * (t - time)))\n",
            "/tmp/ipython-input-51-2109664919.py:24: RuntimeWarning: invalid value encountered in scalar multiply\n",
            "  ll += (1 - alpha) * t - (beta / gamma) * np.sum(1 - np.exp(-gamma * (t - time)))\n",
            "/tmp/ipython-input-12-155223880.py:10: RuntimeWarning: divide by zero encountered in scalar divide\n",
            "  constr = [{'type': 'ineq', 'fun': lambda x: 1-x[1]/x[2] }, # beta/gamma < 1\n",
            "/tmp/ipython-input-51-2109664919.py:24: RuntimeWarning: divide by zero encountered in scalar divide\n",
            "  ll += (1 - alpha) * t - (beta / gamma) * np.sum(1 - np.exp(-gamma * (t - time)))\n",
            "/tmp/ipython-input-51-2109664919.py:24: RuntimeWarning: invalid value encountered in scalar multiply\n",
            "  ll += (1 - alpha) * t - (beta / gamma) * np.sum(1 - np.exp(-gamma * (t - time)))\n",
            "/tmp/ipython-input-12-155223880.py:10: RuntimeWarning: divide by zero encountered in scalar divide\n",
            "  constr = [{'type': 'ineq', 'fun': lambda x: 1-x[1]/x[2] }, # beta/gamma < 1\n",
            "/tmp/ipython-input-51-2109664919.py:24: RuntimeWarning: divide by zero encountered in scalar divide\n",
            "  ll += (1 - alpha) * t - (beta / gamma) * np.sum(1 - np.exp(-gamma * (t - time)))\n",
            "/tmp/ipython-input-51-2109664919.py:24: RuntimeWarning: invalid value encountered in scalar multiply\n",
            "  ll += (1 - alpha) * t - (beta / gamma) * np.sum(1 - np.exp(-gamma * (t - time)))\n",
            "/tmp/ipython-input-12-155223880.py:10: RuntimeWarning: divide by zero encountered in scalar divide\n",
            "  constr = [{'type': 'ineq', 'fun': lambda x: 1-x[1]/x[2] }, # beta/gamma < 1\n",
            "/tmp/ipython-input-51-2109664919.py:24: RuntimeWarning: divide by zero encountered in scalar divide\n",
            "  ll += (1 - alpha) * t - (beta / gamma) * np.sum(1 - np.exp(-gamma * (t - time)))\n",
            "/tmp/ipython-input-51-2109664919.py:24: RuntimeWarning: invalid value encountered in scalar multiply\n",
            "  ll += (1 - alpha) * t - (beta / gamma) * np.sum(1 - np.exp(-gamma * (t - time)))\n",
            "/tmp/ipython-input-12-155223880.py:10: RuntimeWarning: divide by zero encountered in scalar divide\n",
            "  constr = [{'type': 'ineq', 'fun': lambda x: 1-x[1]/x[2] }, # beta/gamma < 1\n",
            "/tmp/ipython-input-51-2109664919.py:24: RuntimeWarning: divide by zero encountered in scalar divide\n",
            "  ll += (1 - alpha) * t - (beta / gamma) * np.sum(1 - np.exp(-gamma * (t - time)))\n",
            "/tmp/ipython-input-51-2109664919.py:24: RuntimeWarning: invalid value encountered in scalar multiply\n",
            "  ll += (1 - alpha) * t - (beta / gamma) * np.sum(1 - np.exp(-gamma * (t - time)))\n",
            "/tmp/ipython-input-12-155223880.py:10: RuntimeWarning: divide by zero encountered in scalar divide\n",
            "  constr = [{'type': 'ineq', 'fun': lambda x: 1-x[1]/x[2] }, # beta/gamma < 1\n",
            "/tmp/ipython-input-51-2109664919.py:24: RuntimeWarning: divide by zero encountered in scalar divide\n",
            "  ll += (1 - alpha) * t - (beta / gamma) * np.sum(1 - np.exp(-gamma * (t - time)))\n",
            "/tmp/ipython-input-51-2109664919.py:24: RuntimeWarning: invalid value encountered in scalar multiply\n",
            "  ll += (1 - alpha) * t - (beta / gamma) * np.sum(1 - np.exp(-gamma * (t - time)))\n",
            "/tmp/ipython-input-12-155223880.py:10: RuntimeWarning: divide by zero encountered in scalar divide\n",
            "  constr = [{'type': 'ineq', 'fun': lambda x: 1-x[1]/x[2] }, # beta/gamma < 1\n",
            "/tmp/ipython-input-51-2109664919.py:24: RuntimeWarning: divide by zero encountered in scalar divide\n",
            "  ll += (1 - alpha) * t - (beta / gamma) * np.sum(1 - np.exp(-gamma * (t - time)))\n",
            "/tmp/ipython-input-51-2109664919.py:24: RuntimeWarning: invalid value encountered in scalar multiply\n",
            "  ll += (1 - alpha) * t - (beta / gamma) * np.sum(1 - np.exp(-gamma * (t - time)))\n",
            "/tmp/ipython-input-12-155223880.py:10: RuntimeWarning: divide by zero encountered in scalar divide\n",
            "  constr = [{'type': 'ineq', 'fun': lambda x: 1-x[1]/x[2] }, # beta/gamma < 1\n",
            "/tmp/ipython-input-51-2109664919.py:24: RuntimeWarning: divide by zero encountered in scalar divide\n",
            "  ll += (1 - alpha) * t - (beta / gamma) * np.sum(1 - np.exp(-gamma * (t - time)))\n",
            "/tmp/ipython-input-51-2109664919.py:24: RuntimeWarning: invalid value encountered in scalar multiply\n",
            "  ll += (1 - alpha) * t - (beta / gamma) * np.sum(1 - np.exp(-gamma * (t - time)))\n",
            "/tmp/ipython-input-12-155223880.py:10: RuntimeWarning: divide by zero encountered in scalar divide\n",
            "  constr = [{'type': 'ineq', 'fun': lambda x: 1-x[1]/x[2] }, # beta/gamma < 1\n",
            "/tmp/ipython-input-51-2109664919.py:24: RuntimeWarning: divide by zero encountered in scalar divide\n",
            "  ll += (1 - alpha) * t - (beta / gamma) * np.sum(1 - np.exp(-gamma * (t - time)))\n",
            "/tmp/ipython-input-51-2109664919.py:24: RuntimeWarning: invalid value encountered in scalar multiply\n",
            "  ll += (1 - alpha) * t - (beta / gamma) * np.sum(1 - np.exp(-gamma * (t - time)))\n",
            "/tmp/ipython-input-12-155223880.py:10: RuntimeWarning: divide by zero encountered in scalar divide\n",
            "  constr = [{'type': 'ineq', 'fun': lambda x: 1-x[1]/x[2] }, # beta/gamma < 1\n"
          ]
        },
        {
          "name": "stdout",
          "output_type": "stream",
          "text": [
            "Success: True, Negative log-likelihood: -17960.6424, Found params: [0.00039684 0.05683505 0.05684828]\n",
            "\n",
            "Test with initial conditions: alpha=0.4728, beta=1.0, gamma=0.5\n"
          ]
        },
        {
          "name": "stderr",
          "output_type": "stream",
          "text": [
            "/tmp/ipython-input-51-2109664919.py:24: RuntimeWarning: divide by zero encountered in scalar divide\n",
            "  ll += (1 - alpha) * t - (beta / gamma) * np.sum(1 - np.exp(-gamma * (t - time)))\n",
            "/tmp/ipython-input-51-2109664919.py:24: RuntimeWarning: invalid value encountered in scalar multiply\n",
            "  ll += (1 - alpha) * t - (beta / gamma) * np.sum(1 - np.exp(-gamma * (t - time)))\n",
            "/tmp/ipython-input-12-155223880.py:10: RuntimeWarning: divide by zero encountered in scalar divide\n",
            "  constr = [{'type': 'ineq', 'fun': lambda x: 1-x[1]/x[2] }, # beta/gamma < 1\n",
            "/tmp/ipython-input-51-2109664919.py:24: RuntimeWarning: divide by zero encountered in scalar divide\n",
            "  ll += (1 - alpha) * t - (beta / gamma) * np.sum(1 - np.exp(-gamma * (t - time)))\n",
            "/tmp/ipython-input-51-2109664919.py:24: RuntimeWarning: invalid value encountered in scalar multiply\n",
            "  ll += (1 - alpha) * t - (beta / gamma) * np.sum(1 - np.exp(-gamma * (t - time)))\n",
            "/tmp/ipython-input-12-155223880.py:10: RuntimeWarning: divide by zero encountered in scalar divide\n",
            "  constr = [{'type': 'ineq', 'fun': lambda x: 1-x[1]/x[2] }, # beta/gamma < 1\n",
            "/tmp/ipython-input-51-2109664919.py:24: RuntimeWarning: divide by zero encountered in scalar divide\n",
            "  ll += (1 - alpha) * t - (beta / gamma) * np.sum(1 - np.exp(-gamma * (t - time)))\n",
            "/tmp/ipython-input-51-2109664919.py:24: RuntimeWarning: invalid value encountered in scalar multiply\n",
            "  ll += (1 - alpha) * t - (beta / gamma) * np.sum(1 - np.exp(-gamma * (t - time)))\n",
            "/tmp/ipython-input-12-155223880.py:10: RuntimeWarning: divide by zero encountered in scalar divide\n",
            "  constr = [{'type': 'ineq', 'fun': lambda x: 1-x[1]/x[2] }, # beta/gamma < 1\n",
            "/tmp/ipython-input-51-2109664919.py:24: RuntimeWarning: divide by zero encountered in scalar divide\n",
            "  ll += (1 - alpha) * t - (beta / gamma) * np.sum(1 - np.exp(-gamma * (t - time)))\n",
            "/tmp/ipython-input-51-2109664919.py:24: RuntimeWarning: invalid value encountered in scalar multiply\n",
            "  ll += (1 - alpha) * t - (beta / gamma) * np.sum(1 - np.exp(-gamma * (t - time)))\n",
            "/tmp/ipython-input-12-155223880.py:10: RuntimeWarning: divide by zero encountered in scalar divide\n",
            "  constr = [{'type': 'ineq', 'fun': lambda x: 1-x[1]/x[2] }, # beta/gamma < 1\n",
            "/tmp/ipython-input-51-2109664919.py:24: RuntimeWarning: divide by zero encountered in scalar divide\n",
            "  ll += (1 - alpha) * t - (beta / gamma) * np.sum(1 - np.exp(-gamma * (t - time)))\n",
            "/tmp/ipython-input-51-2109664919.py:24: RuntimeWarning: invalid value encountered in scalar multiply\n",
            "  ll += (1 - alpha) * t - (beta / gamma) * np.sum(1 - np.exp(-gamma * (t - time)))\n",
            "/tmp/ipython-input-12-155223880.py:10: RuntimeWarning: divide by zero encountered in scalar divide\n",
            "  constr = [{'type': 'ineq', 'fun': lambda x: 1-x[1]/x[2] }, # beta/gamma < 1\n",
            "/tmp/ipython-input-51-2109664919.py:24: RuntimeWarning: divide by zero encountered in scalar divide\n",
            "  ll += (1 - alpha) * t - (beta / gamma) * np.sum(1 - np.exp(-gamma * (t - time)))\n",
            "/tmp/ipython-input-51-2109664919.py:24: RuntimeWarning: invalid value encountered in scalar multiply\n",
            "  ll += (1 - alpha) * t - (beta / gamma) * np.sum(1 - np.exp(-gamma * (t - time)))\n",
            "/tmp/ipython-input-12-155223880.py:10: RuntimeWarning: divide by zero encountered in scalar divide\n",
            "  constr = [{'type': 'ineq', 'fun': lambda x: 1-x[1]/x[2] }, # beta/gamma < 1\n",
            "/tmp/ipython-input-51-2109664919.py:24: RuntimeWarning: divide by zero encountered in scalar divide\n",
            "  ll += (1 - alpha) * t - (beta / gamma) * np.sum(1 - np.exp(-gamma * (t - time)))\n",
            "/tmp/ipython-input-51-2109664919.py:24: RuntimeWarning: invalid value encountered in scalar multiply\n",
            "  ll += (1 - alpha) * t - (beta / gamma) * np.sum(1 - np.exp(-gamma * (t - time)))\n",
            "/tmp/ipython-input-12-155223880.py:10: RuntimeWarning: divide by zero encountered in scalar divide\n",
            "  constr = [{'type': 'ineq', 'fun': lambda x: 1-x[1]/x[2] }, # beta/gamma < 1\n"
          ]
        },
        {
          "name": "stdout",
          "output_type": "stream",
          "text": [
            "Success: True, Negative log-likelihood: -931.2264, Found params: [4.72035512e-01 1.05544005e-18 6.48717824e+02]\n",
            "\n",
            "Test with initial conditions: alpha=0.4728, beta=1.0, gamma=1.0\n"
          ]
        },
        {
          "name": "stderr",
          "output_type": "stream",
          "text": [
            "/tmp/ipython-input-51-2109664919.py:24: RuntimeWarning: invalid value encountered in scalar divide\n",
            "  ll += (1 - alpha) * t - (beta / gamma) * np.sum(1 - np.exp(-gamma * (t - time)))\n",
            "/tmp/ipython-input-12-155223880.py:10: RuntimeWarning: invalid value encountered in scalar divide\n",
            "  constr = [{'type': 'ineq', 'fun': lambda x: 1-x[1]/x[2] }, # beta/gamma < 1\n",
            "/tmp/ipython-input-51-2109664919.py:24: RuntimeWarning: invalid value encountered in scalar divide\n",
            "  ll += (1 - alpha) * t - (beta / gamma) * np.sum(1 - np.exp(-gamma * (t - time)))\n",
            "/tmp/ipython-input-12-155223880.py:10: RuntimeWarning: invalid value encountered in scalar divide\n",
            "  constr = [{'type': 'ineq', 'fun': lambda x: 1-x[1]/x[2] }, # beta/gamma < 1\n",
            "/tmp/ipython-input-51-2109664919.py:24: RuntimeWarning: invalid value encountered in scalar divide\n",
            "  ll += (1 - alpha) * t - (beta / gamma) * np.sum(1 - np.exp(-gamma * (t - time)))\n",
            "/tmp/ipython-input-12-155223880.py:10: RuntimeWarning: invalid value encountered in scalar divide\n",
            "  constr = [{'type': 'ineq', 'fun': lambda x: 1-x[1]/x[2] }, # beta/gamma < 1\n",
            "/tmp/ipython-input-51-2109664919.py:24: RuntimeWarning: divide by zero encountered in scalar divide\n",
            "  ll += (1 - alpha) * t - (beta / gamma) * np.sum(1 - np.exp(-gamma * (t - time)))\n",
            "/tmp/ipython-input-51-2109664919.py:24: RuntimeWarning: invalid value encountered in scalar multiply\n",
            "  ll += (1 - alpha) * t - (beta / gamma) * np.sum(1 - np.exp(-gamma * (t - time)))\n",
            "/tmp/ipython-input-12-155223880.py:10: RuntimeWarning: divide by zero encountered in scalar divide\n",
            "  constr = [{'type': 'ineq', 'fun': lambda x: 1-x[1]/x[2] }, # beta/gamma < 1\n"
          ]
        },
        {
          "name": "stdout",
          "output_type": "stream",
          "text": [
            "Success: True, Negative log-likelihood: -17960.6424, Found params: [0.00039657 0.05683533 0.05684942]\n",
            "\n",
            "Test with initial conditions: alpha=0.4728, beta=1.0, gamma=2.0\n"
          ]
        },
        {
          "name": "stderr",
          "output_type": "stream",
          "text": [
            "/tmp/ipython-input-51-2109664919.py:24: RuntimeWarning: divide by zero encountered in scalar divide\n",
            "  ll += (1 - alpha) * t - (beta / gamma) * np.sum(1 - np.exp(-gamma * (t - time)))\n",
            "/tmp/ipython-input-51-2109664919.py:24: RuntimeWarning: invalid value encountered in scalar multiply\n",
            "  ll += (1 - alpha) * t - (beta / gamma) * np.sum(1 - np.exp(-gamma * (t - time)))\n",
            "/tmp/ipython-input-12-155223880.py:10: RuntimeWarning: divide by zero encountered in scalar divide\n",
            "  constr = [{'type': 'ineq', 'fun': lambda x: 1-x[1]/x[2] }, # beta/gamma < 1\n",
            "/tmp/ipython-input-51-2109664919.py:24: RuntimeWarning: divide by zero encountered in scalar divide\n",
            "  ll += (1 - alpha) * t - (beta / gamma) * np.sum(1 - np.exp(-gamma * (t - time)))\n",
            "/tmp/ipython-input-51-2109664919.py:24: RuntimeWarning: invalid value encountered in scalar multiply\n",
            "  ll += (1 - alpha) * t - (beta / gamma) * np.sum(1 - np.exp(-gamma * (t - time)))\n",
            "/tmp/ipython-input-12-155223880.py:10: RuntimeWarning: divide by zero encountered in scalar divide\n",
            "  constr = [{'type': 'ineq', 'fun': lambda x: 1-x[1]/x[2] }, # beta/gamma < 1\n",
            "/tmp/ipython-input-51-2109664919.py:24: RuntimeWarning: divide by zero encountered in scalar divide\n",
            "  ll += (1 - alpha) * t - (beta / gamma) * np.sum(1 - np.exp(-gamma * (t - time)))\n",
            "/tmp/ipython-input-51-2109664919.py:24: RuntimeWarning: invalid value encountered in scalar multiply\n",
            "  ll += (1 - alpha) * t - (beta / gamma) * np.sum(1 - np.exp(-gamma * (t - time)))\n",
            "/tmp/ipython-input-12-155223880.py:10: RuntimeWarning: divide by zero encountered in scalar divide\n",
            "  constr = [{'type': 'ineq', 'fun': lambda x: 1-x[1]/x[2] }, # beta/gamma < 1\n",
            "/tmp/ipython-input-51-2109664919.py:24: RuntimeWarning: divide by zero encountered in scalar divide\n",
            "  ll += (1 - alpha) * t - (beta / gamma) * np.sum(1 - np.exp(-gamma * (t - time)))\n",
            "/tmp/ipython-input-51-2109664919.py:24: RuntimeWarning: invalid value encountered in scalar multiply\n",
            "  ll += (1 - alpha) * t - (beta / gamma) * np.sum(1 - np.exp(-gamma * (t - time)))\n",
            "/tmp/ipython-input-12-155223880.py:10: RuntimeWarning: divide by zero encountered in scalar divide\n",
            "  constr = [{'type': 'ineq', 'fun': lambda x: 1-x[1]/x[2] }, # beta/gamma < 1\n",
            "/tmp/ipython-input-51-2109664919.py:24: RuntimeWarning: divide by zero encountered in scalar divide\n",
            "  ll += (1 - alpha) * t - (beta / gamma) * np.sum(1 - np.exp(-gamma * (t - time)))\n",
            "/tmp/ipython-input-51-2109664919.py:24: RuntimeWarning: invalid value encountered in scalar multiply\n",
            "  ll += (1 - alpha) * t - (beta / gamma) * np.sum(1 - np.exp(-gamma * (t - time)))\n",
            "/tmp/ipython-input-12-155223880.py:10: RuntimeWarning: divide by zero encountered in scalar divide\n",
            "  constr = [{'type': 'ineq', 'fun': lambda x: 1-x[1]/x[2] }, # beta/gamma < 1\n",
            "/tmp/ipython-input-51-2109664919.py:24: RuntimeWarning: divide by zero encountered in scalar divide\n",
            "  ll += (1 - alpha) * t - (beta / gamma) * np.sum(1 - np.exp(-gamma * (t - time)))\n",
            "/tmp/ipython-input-51-2109664919.py:24: RuntimeWarning: invalid value encountered in scalar multiply\n",
            "  ll += (1 - alpha) * t - (beta / gamma) * np.sum(1 - np.exp(-gamma * (t - time)))\n",
            "/tmp/ipython-input-12-155223880.py:10: RuntimeWarning: divide by zero encountered in scalar divide\n",
            "  constr = [{'type': 'ineq', 'fun': lambda x: 1-x[1]/x[2] }, # beta/gamma < 1\n",
            "/tmp/ipython-input-51-2109664919.py:24: RuntimeWarning: divide by zero encountered in scalar divide\n",
            "  ll += (1 - alpha) * t - (beta / gamma) * np.sum(1 - np.exp(-gamma * (t - time)))\n",
            "/tmp/ipython-input-51-2109664919.py:24: RuntimeWarning: invalid value encountered in scalar multiply\n",
            "  ll += (1 - alpha) * t - (beta / gamma) * np.sum(1 - np.exp(-gamma * (t - time)))\n",
            "/tmp/ipython-input-12-155223880.py:10: RuntimeWarning: divide by zero encountered in scalar divide\n",
            "  constr = [{'type': 'ineq', 'fun': lambda x: 1-x[1]/x[2] }, # beta/gamma < 1\n",
            "/tmp/ipython-input-51-2109664919.py:24: RuntimeWarning: divide by zero encountered in scalar divide\n",
            "  ll += (1 - alpha) * t - (beta / gamma) * np.sum(1 - np.exp(-gamma * (t - time)))\n",
            "/tmp/ipython-input-51-2109664919.py:24: RuntimeWarning: invalid value encountered in scalar multiply\n",
            "  ll += (1 - alpha) * t - (beta / gamma) * np.sum(1 - np.exp(-gamma * (t - time)))\n",
            "/tmp/ipython-input-12-155223880.py:10: RuntimeWarning: divide by zero encountered in scalar divide\n",
            "  constr = [{'type': 'ineq', 'fun': lambda x: 1-x[1]/x[2] }, # beta/gamma < 1\n",
            "/tmp/ipython-input-51-2109664919.py:24: RuntimeWarning: divide by zero encountered in scalar divide\n",
            "  ll += (1 - alpha) * t - (beta / gamma) * np.sum(1 - np.exp(-gamma * (t - time)))\n",
            "/tmp/ipython-input-51-2109664919.py:24: RuntimeWarning: invalid value encountered in scalar multiply\n",
            "  ll += (1 - alpha) * t - (beta / gamma) * np.sum(1 - np.exp(-gamma * (t - time)))\n",
            "/tmp/ipython-input-12-155223880.py:10: RuntimeWarning: divide by zero encountered in scalar divide\n",
            "  constr = [{'type': 'ineq', 'fun': lambda x: 1-x[1]/x[2] }, # beta/gamma < 1\n",
            "/tmp/ipython-input-51-2109664919.py:24: RuntimeWarning: divide by zero encountered in scalar divide\n",
            "  ll += (1 - alpha) * t - (beta / gamma) * np.sum(1 - np.exp(-gamma * (t - time)))\n",
            "/tmp/ipython-input-51-2109664919.py:24: RuntimeWarning: invalid value encountered in scalar multiply\n",
            "  ll += (1 - alpha) * t - (beta / gamma) * np.sum(1 - np.exp(-gamma * (t - time)))\n",
            "/tmp/ipython-input-12-155223880.py:10: RuntimeWarning: divide by zero encountered in scalar divide\n",
            "  constr = [{'type': 'ineq', 'fun': lambda x: 1-x[1]/x[2] }, # beta/gamma < 1\n",
            "/tmp/ipython-input-51-2109664919.py:24: RuntimeWarning: divide by zero encountered in scalar divide\n",
            "  ll += (1 - alpha) * t - (beta / gamma) * np.sum(1 - np.exp(-gamma * (t - time)))\n",
            "/tmp/ipython-input-51-2109664919.py:24: RuntimeWarning: invalid value encountered in scalar multiply\n",
            "  ll += (1 - alpha) * t - (beta / gamma) * np.sum(1 - np.exp(-gamma * (t - time)))\n",
            "/tmp/ipython-input-12-155223880.py:10: RuntimeWarning: divide by zero encountered in scalar divide\n",
            "  constr = [{'type': 'ineq', 'fun': lambda x: 1-x[1]/x[2] }, # beta/gamma < 1\n"
          ]
        },
        {
          "name": "stdout",
          "output_type": "stream",
          "text": [
            "Success: True, Negative log-likelihood: -17960.6424, Found params: [0.00039689 0.05683499 0.05684824]\n",
            "\n",
            "Test with initial conditions: alpha=0.4728, beta=1.0, gamma=5.0\n"
          ]
        },
        {
          "name": "stderr",
          "output_type": "stream",
          "text": [
            "/tmp/ipython-input-51-2109664919.py:24: RuntimeWarning: divide by zero encountered in scalar divide\n",
            "  ll += (1 - alpha) * t - (beta / gamma) * np.sum(1 - np.exp(-gamma * (t - time)))\n",
            "/tmp/ipython-input-51-2109664919.py:24: RuntimeWarning: invalid value encountered in scalar multiply\n",
            "  ll += (1 - alpha) * t - (beta / gamma) * np.sum(1 - np.exp(-gamma * (t - time)))\n",
            "/tmp/ipython-input-12-155223880.py:10: RuntimeWarning: divide by zero encountered in scalar divide\n",
            "  constr = [{'type': 'ineq', 'fun': lambda x: 1-x[1]/x[2] }, # beta/gamma < 1\n",
            "/tmp/ipython-input-51-2109664919.py:24: RuntimeWarning: divide by zero encountered in scalar divide\n",
            "  ll += (1 - alpha) * t - (beta / gamma) * np.sum(1 - np.exp(-gamma * (t - time)))\n",
            "/tmp/ipython-input-51-2109664919.py:24: RuntimeWarning: invalid value encountered in scalar multiply\n",
            "  ll += (1 - alpha) * t - (beta / gamma) * np.sum(1 - np.exp(-gamma * (t - time)))\n",
            "/tmp/ipython-input-12-155223880.py:10: RuntimeWarning: divide by zero encountered in scalar divide\n",
            "  constr = [{'type': 'ineq', 'fun': lambda x: 1-x[1]/x[2] }, # beta/gamma < 1\n",
            "/tmp/ipython-input-51-2109664919.py:24: RuntimeWarning: divide by zero encountered in scalar divide\n",
            "  ll += (1 - alpha) * t - (beta / gamma) * np.sum(1 - np.exp(-gamma * (t - time)))\n",
            "/tmp/ipython-input-51-2109664919.py:24: RuntimeWarning: invalid value encountered in scalar multiply\n",
            "  ll += (1 - alpha) * t - (beta / gamma) * np.sum(1 - np.exp(-gamma * (t - time)))\n",
            "/tmp/ipython-input-12-155223880.py:10: RuntimeWarning: divide by zero encountered in scalar divide\n",
            "  constr = [{'type': 'ineq', 'fun': lambda x: 1-x[1]/x[2] }, # beta/gamma < 1\n",
            "/tmp/ipython-input-51-2109664919.py:24: RuntimeWarning: divide by zero encountered in scalar divide\n",
            "  ll += (1 - alpha) * t - (beta / gamma) * np.sum(1 - np.exp(-gamma * (t - time)))\n",
            "/tmp/ipython-input-51-2109664919.py:24: RuntimeWarning: invalid value encountered in scalar multiply\n",
            "  ll += (1 - alpha) * t - (beta / gamma) * np.sum(1 - np.exp(-gamma * (t - time)))\n",
            "/tmp/ipython-input-12-155223880.py:10: RuntimeWarning: divide by zero encountered in scalar divide\n",
            "  constr = [{'type': 'ineq', 'fun': lambda x: 1-x[1]/x[2] }, # beta/gamma < 1\n",
            "/tmp/ipython-input-51-2109664919.py:24: RuntimeWarning: divide by zero encountered in scalar divide\n",
            "  ll += (1 - alpha) * t - (beta / gamma) * np.sum(1 - np.exp(-gamma * (t - time)))\n",
            "/tmp/ipython-input-51-2109664919.py:24: RuntimeWarning: invalid value encountered in scalar multiply\n",
            "  ll += (1 - alpha) * t - (beta / gamma) * np.sum(1 - np.exp(-gamma * (t - time)))\n",
            "/tmp/ipython-input-12-155223880.py:10: RuntimeWarning: divide by zero encountered in scalar divide\n",
            "  constr = [{'type': 'ineq', 'fun': lambda x: 1-x[1]/x[2] }, # beta/gamma < 1\n",
            "/tmp/ipython-input-51-2109664919.py:24: RuntimeWarning: invalid value encountered in scalar divide\n",
            "  ll += (1 - alpha) * t - (beta / gamma) * np.sum(1 - np.exp(-gamma * (t - time)))\n",
            "/tmp/ipython-input-12-155223880.py:10: RuntimeWarning: invalid value encountered in scalar divide\n",
            "  constr = [{'type': 'ineq', 'fun': lambda x: 1-x[1]/x[2] }, # beta/gamma < 1\n",
            "/tmp/ipython-input-51-2109664919.py:24: RuntimeWarning: divide by zero encountered in scalar divide\n",
            "  ll += (1 - alpha) * t - (beta / gamma) * np.sum(1 - np.exp(-gamma * (t - time)))\n",
            "/tmp/ipython-input-51-2109664919.py:24: RuntimeWarning: invalid value encountered in scalar multiply\n",
            "  ll += (1 - alpha) * t - (beta / gamma) * np.sum(1 - np.exp(-gamma * (t - time)))\n",
            "/tmp/ipython-input-12-155223880.py:10: RuntimeWarning: divide by zero encountered in scalar divide\n",
            "  constr = [{'type': 'ineq', 'fun': lambda x: 1-x[1]/x[2] }, # beta/gamma < 1\n"
          ]
        },
        {
          "name": "stdout",
          "output_type": "stream",
          "text": [
            "Success: True, Negative log-likelihood: -17960.6424, Found params: [0.00039671 0.05683487 0.05684806]\n",
            "\n",
            "Test with initial conditions: alpha=0.4728, beta=2.0, gamma=0.5\n",
            "Success: True, Negative log-likelihood: -931.2264, Found params: [ 0.47203581  0.         12.72700685]\n",
            "\n",
            "Test with initial conditions: alpha=0.4728, beta=2.0, gamma=1.0\n"
          ]
        },
        {
          "name": "stderr",
          "output_type": "stream",
          "text": [
            "/tmp/ipython-input-51-2109664919.py:24: RuntimeWarning: divide by zero encountered in scalar divide\n",
            "  ll += (1 - alpha) * t - (beta / gamma) * np.sum(1 - np.exp(-gamma * (t - time)))\n",
            "/tmp/ipython-input-51-2109664919.py:24: RuntimeWarning: invalid value encountered in scalar multiply\n",
            "  ll += (1 - alpha) * t - (beta / gamma) * np.sum(1 - np.exp(-gamma * (t - time)))\n",
            "/tmp/ipython-input-12-155223880.py:10: RuntimeWarning: divide by zero encountered in scalar divide\n",
            "  constr = [{'type': 'ineq', 'fun': lambda x: 1-x[1]/x[2] }, # beta/gamma < 1\n",
            "/tmp/ipython-input-51-2109664919.py:24: RuntimeWarning: invalid value encountered in scalar divide\n",
            "  ll += (1 - alpha) * t - (beta / gamma) * np.sum(1 - np.exp(-gamma * (t - time)))\n",
            "/tmp/ipython-input-12-155223880.py:10: RuntimeWarning: invalid value encountered in scalar divide\n",
            "  constr = [{'type': 'ineq', 'fun': lambda x: 1-x[1]/x[2] }, # beta/gamma < 1\n",
            "/tmp/ipython-input-51-2109664919.py:24: RuntimeWarning: invalid value encountered in scalar divide\n",
            "  ll += (1 - alpha) * t - (beta / gamma) * np.sum(1 - np.exp(-gamma * (t - time)))\n",
            "/tmp/ipython-input-12-155223880.py:10: RuntimeWarning: invalid value encountered in scalar divide\n",
            "  constr = [{'type': 'ineq', 'fun': lambda x: 1-x[1]/x[2] }, # beta/gamma < 1\n",
            "/tmp/ipython-input-51-2109664919.py:24: RuntimeWarning: invalid value encountered in scalar divide\n",
            "  ll += (1 - alpha) * t - (beta / gamma) * np.sum(1 - np.exp(-gamma * (t - time)))\n",
            "/tmp/ipython-input-12-155223880.py:10: RuntimeWarning: invalid value encountered in scalar divide\n",
            "  constr = [{'type': 'ineq', 'fun': lambda x: 1-x[1]/x[2] }, # beta/gamma < 1\n"
          ]
        },
        {
          "name": "stdout",
          "output_type": "stream",
          "text": [
            "Success: False, Negative log-likelihood: -17387.3331, Found params: [0.00456466 0.47808016 0.46929615]\n",
            "\n",
            "Test with initial conditions: alpha=0.4728, beta=2.0, gamma=2.0\n"
          ]
        },
        {
          "name": "stderr",
          "output_type": "stream",
          "text": [
            "/tmp/ipython-input-51-2109664919.py:24: RuntimeWarning: invalid value encountered in scalar divide\n",
            "  ll += (1 - alpha) * t - (beta / gamma) * np.sum(1 - np.exp(-gamma * (t - time)))\n",
            "/tmp/ipython-input-12-155223880.py:10: RuntimeWarning: invalid value encountered in scalar divide\n",
            "  constr = [{'type': 'ineq', 'fun': lambda x: 1-x[1]/x[2] }, # beta/gamma < 1\n",
            "/tmp/ipython-input-51-2109664919.py:24: RuntimeWarning: invalid value encountered in scalar divide\n",
            "  ll += (1 - alpha) * t - (beta / gamma) * np.sum(1 - np.exp(-gamma * (t - time)))\n",
            "/tmp/ipython-input-12-155223880.py:10: RuntimeWarning: invalid value encountered in scalar divide\n",
            "  constr = [{'type': 'ineq', 'fun': lambda x: 1-x[1]/x[2] }, # beta/gamma < 1\n",
            "/tmp/ipython-input-51-2109664919.py:24: RuntimeWarning: invalid value encountered in scalar divide\n",
            "  ll += (1 - alpha) * t - (beta / gamma) * np.sum(1 - np.exp(-gamma * (t - time)))\n",
            "/tmp/ipython-input-12-155223880.py:10: RuntimeWarning: invalid value encountered in scalar divide\n",
            "  constr = [{'type': 'ineq', 'fun': lambda x: 1-x[1]/x[2] }, # beta/gamma < 1\n"
          ]
        },
        {
          "name": "stdout",
          "output_type": "stream",
          "text": [
            "Success: True, Negative log-likelihood: -16791.0058, Found params: [0.1146319  0.48484771 0.48484697]\n",
            "\n",
            "Test with initial conditions: alpha=0.4728, beta=2.0, gamma=5.0\n"
          ]
        },
        {
          "name": "stderr",
          "output_type": "stream",
          "text": [
            "/tmp/ipython-input-51-2109664919.py:24: RuntimeWarning: divide by zero encountered in scalar divide\n",
            "  ll += (1 - alpha) * t - (beta / gamma) * np.sum(1 - np.exp(-gamma * (t - time)))\n",
            "/tmp/ipython-input-51-2109664919.py:24: RuntimeWarning: invalid value encountered in scalar multiply\n",
            "  ll += (1 - alpha) * t - (beta / gamma) * np.sum(1 - np.exp(-gamma * (t - time)))\n",
            "/tmp/ipython-input-12-155223880.py:10: RuntimeWarning: divide by zero encountered in scalar divide\n",
            "  constr = [{'type': 'ineq', 'fun': lambda x: 1-x[1]/x[2] }, # beta/gamma < 1\n",
            "/tmp/ipython-input-51-2109664919.py:24: RuntimeWarning: divide by zero encountered in scalar divide\n",
            "  ll += (1 - alpha) * t - (beta / gamma) * np.sum(1 - np.exp(-gamma * (t - time)))\n",
            "/tmp/ipython-input-51-2109664919.py:24: RuntimeWarning: invalid value encountered in scalar multiply\n",
            "  ll += (1 - alpha) * t - (beta / gamma) * np.sum(1 - np.exp(-gamma * (t - time)))\n",
            "/tmp/ipython-input-12-155223880.py:10: RuntimeWarning: divide by zero encountered in scalar divide\n",
            "  constr = [{'type': 'ineq', 'fun': lambda x: 1-x[1]/x[2] }, # beta/gamma < 1\n",
            "/tmp/ipython-input-51-2109664919.py:24: RuntimeWarning: divide by zero encountered in scalar divide\n",
            "  ll += (1 - alpha) * t - (beta / gamma) * np.sum(1 - np.exp(-gamma * (t - time)))\n",
            "/tmp/ipython-input-51-2109664919.py:24: RuntimeWarning: invalid value encountered in scalar multiply\n",
            "  ll += (1 - alpha) * t - (beta / gamma) * np.sum(1 - np.exp(-gamma * (t - time)))\n",
            "/tmp/ipython-input-12-155223880.py:10: RuntimeWarning: divide by zero encountered in scalar divide\n",
            "  constr = [{'type': 'ineq', 'fun': lambda x: 1-x[1]/x[2] }, # beta/gamma < 1\n",
            "/tmp/ipython-input-51-2109664919.py:24: RuntimeWarning: divide by zero encountered in scalar divide\n",
            "  ll += (1 - alpha) * t - (beta / gamma) * np.sum(1 - np.exp(-gamma * (t - time)))\n",
            "/tmp/ipython-input-51-2109664919.py:24: RuntimeWarning: invalid value encountered in scalar multiply\n",
            "  ll += (1 - alpha) * t - (beta / gamma) * np.sum(1 - np.exp(-gamma * (t - time)))\n",
            "/tmp/ipython-input-12-155223880.py:10: RuntimeWarning: divide by zero encountered in scalar divide\n",
            "  constr = [{'type': 'ineq', 'fun': lambda x: 1-x[1]/x[2] }, # beta/gamma < 1\n",
            "/tmp/ipython-input-51-2109664919.py:24: RuntimeWarning: divide by zero encountered in scalar divide\n",
            "  ll += (1 - alpha) * t - (beta / gamma) * np.sum(1 - np.exp(-gamma * (t - time)))\n",
            "/tmp/ipython-input-51-2109664919.py:24: RuntimeWarning: invalid value encountered in scalar multiply\n",
            "  ll += (1 - alpha) * t - (beta / gamma) * np.sum(1 - np.exp(-gamma * (t - time)))\n",
            "/tmp/ipython-input-12-155223880.py:10: RuntimeWarning: divide by zero encountered in scalar divide\n",
            "  constr = [{'type': 'ineq', 'fun': lambda x: 1-x[1]/x[2] }, # beta/gamma < 1\n",
            "/tmp/ipython-input-51-2109664919.py:24: RuntimeWarning: divide by zero encountered in scalar divide\n",
            "  ll += (1 - alpha) * t - (beta / gamma) * np.sum(1 - np.exp(-gamma * (t - time)))\n",
            "/tmp/ipython-input-51-2109664919.py:24: RuntimeWarning: invalid value encountered in scalar multiply\n",
            "  ll += (1 - alpha) * t - (beta / gamma) * np.sum(1 - np.exp(-gamma * (t - time)))\n",
            "/tmp/ipython-input-12-155223880.py:10: RuntimeWarning: divide by zero encountered in scalar divide\n",
            "  constr = [{'type': 'ineq', 'fun': lambda x: 1-x[1]/x[2] }, # beta/gamma < 1\n",
            "/tmp/ipython-input-51-2109664919.py:24: RuntimeWarning: divide by zero encountered in scalar divide\n",
            "  ll += (1 - alpha) * t - (beta / gamma) * np.sum(1 - np.exp(-gamma * (t - time)))\n",
            "/tmp/ipython-input-51-2109664919.py:24: RuntimeWarning: invalid value encountered in scalar multiply\n",
            "  ll += (1 - alpha) * t - (beta / gamma) * np.sum(1 - np.exp(-gamma * (t - time)))\n",
            "/tmp/ipython-input-12-155223880.py:10: RuntimeWarning: divide by zero encountered in scalar divide\n",
            "  constr = [{'type': 'ineq', 'fun': lambda x: 1-x[1]/x[2] }, # beta/gamma < 1\n",
            "/tmp/ipython-input-51-2109664919.py:24: RuntimeWarning: invalid value encountered in scalar divide\n",
            "  ll += (1 - alpha) * t - (beta / gamma) * np.sum(1 - np.exp(-gamma * (t - time)))\n",
            "/tmp/ipython-input-12-155223880.py:10: RuntimeWarning: invalid value encountered in scalar divide\n",
            "  constr = [{'type': 'ineq', 'fun': lambda x: 1-x[1]/x[2] }, # beta/gamma < 1\n",
            "/tmp/ipython-input-51-2109664919.py:24: RuntimeWarning: invalid value encountered in scalar divide\n",
            "  ll += (1 - alpha) * t - (beta / gamma) * np.sum(1 - np.exp(-gamma * (t - time)))\n",
            "/tmp/ipython-input-12-155223880.py:10: RuntimeWarning: invalid value encountered in scalar divide\n",
            "  constr = [{'type': 'ineq', 'fun': lambda x: 1-x[1]/x[2] }, # beta/gamma < 1\n",
            "/tmp/ipython-input-51-2109664919.py:24: RuntimeWarning: invalid value encountered in scalar divide\n",
            "  ll += (1 - alpha) * t - (beta / gamma) * np.sum(1 - np.exp(-gamma * (t - time)))\n",
            "/tmp/ipython-input-12-155223880.py:10: RuntimeWarning: invalid value encountered in scalar divide\n",
            "  constr = [{'type': 'ineq', 'fun': lambda x: 1-x[1]/x[2] }, # beta/gamma < 1\n",
            "/tmp/ipython-input-51-2109664919.py:24: RuntimeWarning: invalid value encountered in scalar divide\n",
            "  ll += (1 - alpha) * t - (beta / gamma) * np.sum(1 - np.exp(-gamma * (t - time)))\n",
            "/tmp/ipython-input-12-155223880.py:10: RuntimeWarning: invalid value encountered in scalar divide\n",
            "  constr = [{'type': 'ineq', 'fun': lambda x: 1-x[1]/x[2] }, # beta/gamma < 1\n",
            "/tmp/ipython-input-51-2109664919.py:24: RuntimeWarning: invalid value encountered in scalar divide\n",
            "  ll += (1 - alpha) * t - (beta / gamma) * np.sum(1 - np.exp(-gamma * (t - time)))\n",
            "/tmp/ipython-input-12-155223880.py:10: RuntimeWarning: invalid value encountered in scalar divide\n",
            "  constr = [{'type': 'ineq', 'fun': lambda x: 1-x[1]/x[2] }, # beta/gamma < 1\n",
            "/tmp/ipython-input-51-2109664919.py:24: RuntimeWarning: divide by zero encountered in scalar divide\n",
            "  ll += (1 - alpha) * t - (beta / gamma) * np.sum(1 - np.exp(-gamma * (t - time)))\n",
            "/tmp/ipython-input-51-2109664919.py:24: RuntimeWarning: invalid value encountered in scalar multiply\n",
            "  ll += (1 - alpha) * t - (beta / gamma) * np.sum(1 - np.exp(-gamma * (t - time)))\n",
            "/tmp/ipython-input-12-155223880.py:10: RuntimeWarning: divide by zero encountered in scalar divide\n",
            "  constr = [{'type': 'ineq', 'fun': lambda x: 1-x[1]/x[2] }, # beta/gamma < 1\n",
            "/tmp/ipython-input-51-2109664919.py:24: RuntimeWarning: divide by zero encountered in scalar divide\n",
            "  ll += (1 - alpha) * t - (beta / gamma) * np.sum(1 - np.exp(-gamma * (t - time)))\n",
            "/tmp/ipython-input-51-2109664919.py:24: RuntimeWarning: invalid value encountered in scalar multiply\n",
            "  ll += (1 - alpha) * t - (beta / gamma) * np.sum(1 - np.exp(-gamma * (t - time)))\n",
            "/tmp/ipython-input-12-155223880.py:10: RuntimeWarning: divide by zero encountered in scalar divide\n",
            "  constr = [{'type': 'ineq', 'fun': lambda x: 1-x[1]/x[2] }, # beta/gamma < 1\n"
          ]
        },
        {
          "name": "stdout",
          "output_type": "stream",
          "text": [
            "Success: True, Negative log-likelihood: -931.2264, Found params: [4.72032194e-01 2.90562224e-10 1.34663228e+02]\n",
            "\n"
          ]
        }
      ],
      "source": [
        "print(\"Looking for the best initialization params\\n\")\n",
        "\n",
        "for beta_val in beta_values_to_test:\n",
        "\n",
        "    for gamma_val in gamma_values_to_test:\n",
        "        initial_params_test = [alpha_fixed, beta_val, gamma_val]\n",
        "        print(f\"Test with initial conditions: alpha={alpha_fixed}, beta={beta_val}, gamma={gamma_val}\")\n",
        "\n",
        "        try:\n",
        "\n",
        "            res_test = minimize(test, initial_params_test, bounds=bnds, constraints=constr)\n",
        "\n",
        "            results[f\"beta={beta_val}, gamma={gamma_val}\"] = {\n",
        "                \"success\": res_test.success,\n",
        "                \"fun\": res_test.fun, # minimal negative log-likelihood\n",
        "                \"x\": res_test.x # optimal parameters found\n",
        "            }\n",
        "\n",
        "            print(f\"Success: {res_test.success}, Negative log-likelihood: {res_test.fun:.4f}, Found params: {res_test.x}\\n\")\n",
        "\n",
        "        except Exception as e:\n",
        "\n",
        "            print(f\"  Error during the optimisation :  {e}\")\n",
        "            results[f\"beta={beta_val}, gamma={gamma_val}\"] = {\n",
        "                \"success\": False,\n",
        "                \"error\": str(e)\n",
        "            }"
      ]
    },
    {
      "cell_type": "code",
      "execution_count": 60,
      "metadata": {
        "colab": {
          "base_uri": "https://localhost:8080/"
        },
        "id": "mOyBdmAgvMO0",
        "outputId": "9bd75208-5392-429e-ecba-b2fa7d3fd016"
      },
      "outputs": [
        {
          "name": "stdout",
          "output_type": "stream",
          "text": [
            "Exploration results summary:\n",
            "\n",
            "Initiales (beta=0.1, gamma=0.5): Negative log-likelihood = -17960.6424, Optimal params = [0.00039668 0.05683516 0.05684843]\n",
            "Initiales (beta=0.1, gamma=1.0): Negative log-likelihood = -17425.8760, Optimal params = [0.06461642 0.09636676 0.13653663]\n",
            "Initiales (beta=0.1, gamma=2.0): Negative log-likelihood = -17960.6424, Optimal params = [0.00039692 0.05683306 0.05684669]\n",
            "Initiales (beta=0.1, gamma=5.0): Negative log-likelihood = -17960.6424, Optimal params = [0.00039672 0.05683518 0.05684844]\n",
            "Initiales (beta=0.5, gamma=0.5): Negative log-likelihood = 621.9167, Optimal params = [4.69486780e-01 2.35717856e+06 3.84134670e+06]\n",
            "Initiales (beta=0.5, gamma=1.0): Negative log-likelihood = -17960.6424, Optimal params = [0.00039693 0.05683535 0.05684865]\n",
            "Initiales (beta=0.5, gamma=2.0): Negative log-likelihood = -931.2264, Optimal params = [4.72036076e-01 2.09012578e-10 3.93756511e+01]\n",
            "Initiales (beta=0.5, gamma=5.0): Negative log-likelihood = -17960.6424, Optimal params = [0.00039684 0.05683505 0.05684828]\n",
            "Initiales (beta=1.0, gamma=0.5): Negative log-likelihood = -931.2264, Optimal params = [4.72035512e-01 1.05544005e-18 6.48717824e+02]\n",
            "Initiales (beta=1.0, gamma=1.0): Negative log-likelihood = -17960.6424, Optimal params = [0.00039657 0.05683533 0.05684942]\n",
            "Initiales (beta=1.0, gamma=2.0): Negative log-likelihood = -17960.6424, Optimal params = [0.00039689 0.05683499 0.05684824]\n",
            "Initiales (beta=1.0, gamma=5.0): Negative log-likelihood = -17960.6424, Optimal params = [0.00039671 0.05683487 0.05684806]\n",
            "Initiales (beta=2.0, gamma=0.5): Negative log-likelihood = -931.2264, Optimal params = [ 0.47203581  0.         12.72700685]\n",
            "Initiales (beta=2.0, gamma=2.0): Negative log-likelihood = -16791.0058, Optimal params = [0.1146319  0.48484771 0.48484697]\n",
            "Initiales (beta=2.0, gamma=5.0): Negative log-likelihood = -931.2264, Optimal params = [4.72032194e-01 2.90562224e-10 1.34663228e+02]\n",
            "\n",
            "\n",
            "The optimized params with the best negative log likelihood are : [0.00039671 0.05683487 0.05684806]\n",
            "\n"
          ]
        }
      ],
      "source": [
        "# Result Analysis\n",
        "print(\"Exploration results summary:\\n\")\n",
        "\n",
        "best_likelihood = np.inf\n",
        "best_initial_params = None\n",
        "\n",
        "for key, value in results.items():\n",
        "    if value.get(\"success\", False):\n",
        "\n",
        "        print(f\"Initiales ({key}): Negative log-likelihood = {value['fun']:.4f}, Optimal params = {value['x']}\")\n",
        "\n",
        "        if value['fun'] < best_likelihood:\n",
        "\n",
        "            best_likelihood = value['fun']\n",
        "            # Save the best params found\n",
        "            best_params = value['x']\n",
        "\n",
        "print(\"\\n\")\n",
        "if best_params is not None:\n",
        "\n",
        "    print(f\"The optimized params with the best negative log likelihood are : {best_params}\\n\")\n",
        "\n",
        "else:\n",
        "    print(\"No optimisation converged.\\n\")"
      ]
    },
    {
      "cell_type": "code",
      "execution_count": 61,
      "metadata": {
        "id": "fARvyeigGpzj"
      },
      "outputs": [],
      "source": [
        "alpha,beta,gamma = best_params"
      ]
    },
    {
      "cell_type": "markdown",
      "metadata": {
        "id": "0iUHc9OcISwi"
      },
      "source": [
        "**Optimal parameters**"
      ]
    },
    {
      "cell_type": "code",
      "execution_count": 62,
      "metadata": {
        "colab": {
          "base_uri": "https://localhost:8080/"
        },
        "id": "dBtcRC5bISwi",
        "outputId": "b9fbeb15-9001-4cd1-83fd-ac18539171b3"
      },
      "outputs": [
        {
          "name": "stdout",
          "output_type": "stream",
          "text": [
            "Optimal Alpha =  0.00039670751615376035\n",
            "Optimal Beta =  0.05683486647232818\n",
            "Optimal Gamma =  0.05684806425479374\n"
          ]
        }
      ],
      "source": [
        "print(\"Optimal Alpha = \", alpha)\n",
        "print(\"Optimal Beta = \", beta)\n",
        "print(\"Optimal Gamma = \", gamma)"
      ]
    },
    {
      "cell_type": "markdown",
      "metadata": {
        "id": "aZkeAHL_ISwj"
      },
      "source": [
        "We will compute $y(N, t)$ using the following formula found exercise 3.4.2.\n",
        "\n",
        "$$y(N,t)=\\alpha t + \\frac{\\beta}{\\gamma} \\sum_{T_n\\leq t} (1-e^{-\\gamma (t-T_n)})$$"
      ]
    },
    {
      "cell_type": "code",
      "execution_count": 63,
      "metadata": {
        "id": "_fyyA5aTOnsW"
      },
      "outputs": [],
      "source": [
        "\n",
        "\n",
        "def y_T(T,q,alpha,beta,gamma):\n",
        "    mask = T < T[q]\n",
        "    T_masked=T[mask]\n",
        "    exps=1-np.exp(-gamma*(T[q]-T_masked))\n",
        "    term1= ( beta / gamma )*exps.sum()\n",
        "    term2 = alpha*T[q]\n",
        "    return term1+term2\n",
        "\n"
      ]
    },
    {
      "cell_type": "code",
      "execution_count": 72,
      "metadata": {
        "colab": {
          "base_uri": "https://localhost:8080/",
          "height": 449
        },
        "id": "GAGrIbbWOsC7",
        "outputId": "37f7e1e3-1a53-4bcc-8be8-58c6d5c518b6"
      },
      "outputs": [
        {
          "data": {
            "image/png": "[encoded data removed]",
            "text/plain": [
              "<Figure size 640x480 with 1 Axes>"
            ]
          },
          "metadata": {},
          "output_type": "display_data"
        }
      ],
      "source": [
        "t_values = [y_T(l,q,alpha,beta,gamma) for q in range(len(l_adapted))]\n",
        "jumps_poisson = np.cumsum(np.random.exponential(scale = 1, size = len(l_adapted)))\n",
        "te_values = [y_T(jumps_poisson,q,alpha,beta,gamma) for q in range(len(l_adapted))]\n",
        "integers=np.arange(0,len(t_values))\n",
        "\n",
        "\n",
        "plt.plot(t_values, integers, label='y(N,Tq)')\n",
        "plt.plot(te_values, integers, label='y(N,Te)') # temps d'arrivés théoriques exp(1)\n",
        "plt.xlabel('t')\n",
        "plt.ylabel(\"number of y(Tq)\")\n",
        "plt.legend()\n",
        "plt.show()"
      ]
    },
    {
      "cell_type": "markdown",
      "metadata": {
        "id": "oU3hAGzTISwj"
      },
      "source": [
        "Now that we have computed y, let's compare the distribution of inter-arrival times with generated poisson process .\n",
        "To do so, we will compare the empirical histogram with the exponential densities"
      ]
    },
    {
      "cell_type": "markdown",
      "metadata": {
        "id": "3P9PnWEXISwk"
      },
      "source": [
        "**Compare the mean**"
      ]
    },
    {
      "cell_type": "code",
      "execution_count": 66,
      "metadata": {
        "colab": {
          "base_uri": "https://localhost:8080/"
        },
        "id": "s8BiIaATISwk",
        "outputId": "a17f730d-af99-42e0-e5e1-347789e74679"
      },
      "outputs": [
        {
          "name": "stdout",
          "output_type": "stream",
          "text": [
            "Sample mean of our distribution is: 1.0003943034045093\n"
          ]
        }
      ],
      "source": [
        "inter_intervals = np.diff(t_values) # Inter arrivals\n",
        "mean = np.mean(inter_intervals)\n",
        "print(\"Sample mean of our distribution is:\", mean)"
      ]
    },
    {
      "cell_type": "markdown",
      "metadata": {
        "id": "lvYTTpnuISwl"
      },
      "source": [
        "**Data distribution**"
      ]
    },
    {
      "cell_type": "code",
      "execution_count": null,
      "metadata": {
        "colab": {
          "base_uri": "https://localhost:8080/",
          "height": 487
        },
        "id": "ufPiSzRKISwl",
        "outputId": "5a829802-7b80-4b18-df03-babd5ca995d8"
      },
      "outputs": [
        {
          "data": {
            "image/png": "[encoded data removed]",
            "text/plain": [
              "<Figure size 1000x500 with 1 Axes>"
            ]
          },
          "metadata": {},
          "output_type": "display_data"
        }
      ],
      "source": [
        "plt.figure(figsize=(10, 5))\n",
        "bins = np.linspace(0, 10 , 20)\n",
        "plt.hist(inter_intervals, bins=bins, density=True, alpha=0.7)\n",
        "plt.xlabel('X')\n",
        "plt.grid()\n",
        "plt.ylabel('Probability Density')\n",
        "plt.title('Histogram of Data')\n",
        "\n",
        "# Adding the theorical density plot\n",
        "x_values = np.linspace(0, 10, 100)\n",
        "\n",
        "# Exponential density with scale=1\n",
        "density = stats.expon.pdf(x_values, scale=1)\n",
        "plt.plot(x_values, density, 'g-', label='Exponential Density')\n",
        "plt.legend()\n",
        "\n",
        "plt.show()"
      ]
    },
    {
      "cell_type": "markdown",
      "metadata": {
        "id": "RMnPJk1mISwm"
      },
      "source": [
        "The histogram of the data $(y(N, T_q(N)), n \\geq 1)$ closely matches the exponential density function, indicating that the distribution of the data is close to the law of a Poisson process with intensity $1$. It is no wonder that the mean is also close to $1$.\n"
      ]
    },
    {
      "cell_type": "markdown",
      "metadata": {
        "id": "ggGpnJKDISwm"
      },
      "source": [
        "**Kolmogorov-Smirnov test**"
      ]
    },
    {
      "cell_type": "code",
      "execution_count": 70,
      "metadata": {
        "colab": {
          "base_uri": "https://localhost:8080/"
        },
        "id": "fdTDC9WkgEnx",
        "outputId": "cd003716-5aac-4b0b-ff89-391a3df907dd"
      },
      "outputs": [
        {
          "name": "stdout",
          "output_type": "stream",
          "text": [
            "KS Statistic: 0.009873617693522907\n",
            "P-Value: 0.9996768685246947\n"
          ]
        }
      ],
      "source": [
        "# Kolmogorov-Smirnov test\n",
        "ks_statistic, p_value = stats.ks_2samp(t_values, te_values)\n",
        "\n",
        "# Print the results\n",
        "print(f\"KS Statistic: {ks_statistic}\")\n",
        "print(f\"P-Value: {p_value}\")"
      ]
    },
    {
      "cell_type": "markdown",
      "metadata": {
        "id": "qDCQqElVISwn"
      },
      "source": [
        "**Conclusion :** from the results obtained above, it looks like the generated process of intensity $y(N, t)$ is a Poisson process of intensity  1. This is what we were looking for when conducting the likelihood maximization."
      ]
    }
  ],
  "metadata": {
    "accelerator": "TPU",
    "colab": {
      "gpuType": "V28",
      "provenance": []
    },
    "kernelspec": {
      "display_name": "Python 3",
      "name": "python3"
    },
    "language_info": {
      "codemirror_mode": {
        "name": "ipython",
        "version": 3
      },
      "file_extension": ".py",
      "mimetype": "text/x-python",
      "name": "python",
      "nbconvert_exporter": "python",
      "pygments_lexer": "ipython3",
      "version": "3.11.2"
    }
  },
  "nbformat": 4,
  "nbformat_minor": 0
}
